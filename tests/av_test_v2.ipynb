{
 "cells": [
  {
   "cell_type": "code",
   "execution_count": 1,
   "source": [
    "import pandas as pd\n",
    "import numpy as np\n",
    "import datetime\n",
    "import pyxirr\n",
    "from alpha_vantage.timeseries import TimeSeries\n",
    "from alpha_vantage.foreignexchange import ForeignExchange\n",
    "from alpha_vantage.fundamentaldata import FundamentalData\n",
    "# from alpha_vantage.foreignexchange import ForeignExchange\n",
    "# from alpha_vantage.fundamentaldata import FundamentalData\n",
    "from secrets import ROOT, ALPHAVANTAGE_API_KEY, ACCOUNT_CURRENCY"
   ],
   "outputs": [],
   "metadata": {}
  },
  {
   "cell_type": "code",
   "execution_count": 2,
   "source": [
    "class av:\n",
    "    try:\n",
    "        ts = TimeSeries(key=ALPHAVANTAGE_API_KEY, output_format='pandas', indexing_type='date')\n",
    "        cc = ForeignExchange(key=ALPHAVANTAGE_API_KEY, output_format='pandas', indexing_type='date')\n",
    "        fd = FundamentalData(key=ALPHAVANTAGE_API_KEY, output_format='pandas')\n",
    "\n",
    "    except ValueError:\n",
    "        print('Please provide a valid AlphaVantage API key.\\nGet a free key from https://www.alphavantage.co/support/#api-key')"
   ],
   "outputs": [],
   "metadata": {}
  },
  {
   "cell_type": "code",
   "execution_count": 3,
   "source": [
    "# HELPERS\n",
    "def series(value, start, end=datetime.date.today()):\n",
    "    return pd.Series(value ,index=pd.date_range(start=start, end=end, freq='B'))\n",
    "\n",
    "def conc_sum(df1, df2, intersect=False):\n",
    "    if intersect:\n",
    "        index = df1.index.intersection(df2.index)\n",
    "        df1 = df1.loc[index]\n",
    "        df2 = df2.loc[index]\n",
    "    return pd.concat([df1, df2], axis=1).sum(1)\n",
    "\n",
    "def conc_mul(df1, df2, intersect=False):\n",
    "    if intersect:\n",
    "        index = df1.index.intersection(df2.index)\n",
    "        df1 = df1.loc[index]\n",
    "        df2 = df2.loc[index]\n",
    "    return pd.concat([df1, df2], axis=1).mul(1)\n",
    "\n",
    "a = series(1,'2020-01-01','2020-01-20')\n",
    "b = series(2,'2020-01-10','2020-01-20')\n",
    "c = series(-1,'2020-01-15','2020-01-20')\n",
    "conc_sum(c,a, True)"
   ],
   "outputs": [
    {
     "output_type": "execute_result",
     "data": {
      "text/plain": [
       "2020-01-15    0\n",
       "2020-01-16    0\n",
       "2020-01-17    0\n",
       "2020-01-20    0\n",
       "Freq: B, dtype: int64"
      ]
     },
     "metadata": {},
     "execution_count": 3
    }
   ],
   "metadata": {}
  },
  {
   "cell_type": "code",
   "execution_count": 4,
   "source": [
    "class Account:\n",
    "\n",
    "    def __init__(self, currency):\n",
    "        self.currency = currency\n",
    "        self.name = 'CASH.' + self.currency\n",
    "        self.internal_transactions = pd.Series()\n",
    "        self.external_transactions = pd.Series()\n",
    "    \n",
    "    def internal_flow(self, date, quantity):\n",
    "        self.internal_transactions = self.internal_transactions.append(\n",
    "            pd.Series(\n",
    "                quantity,\n",
    "                index=[date])).sort_index()\n",
    "\n",
    "    def external_flow(self, date, quantity):\n",
    "        self.external_transactions = self.external_transactions.append(\n",
    "            pd.Series(\n",
    "                quantity,\n",
    "                index=[date])).sort_index()\n",
    "\n",
    "    def run(self):\n",
    "        self.holdings = self.internal_transactions.cumsum()\n",
    "        self.invested_capital = self.external_transactions.cumsum()\n",
    "\n",
    "class Security:\n",
    "\n",
    "    def __init__(self, name):\n",
    "        self.name = name\n",
    "        self.transactions = pd.Series()\n",
    "        self.data = av.ts.get_daily_adjusted(\n",
    "            self.name,\n",
    "            outputsize='full')[0].iloc[::-1]\n",
    "        self.data = self.data.asfreq('B', method='ffill')\n",
    "        self.prices = self.data['4. close']\n",
    "        self.dividends = self.data['7. dividend amount']\n",
    "        self.splits = self.data['8. split coefficient']\n",
    "\n",
    "    def record(self, date, quantity):\n",
    "        self.transactions = self.transactions.append(\n",
    "            pd.Series(\n",
    "                quantity,\n",
    "                index=[date])).sort_index()\n",
    "        '''\n",
    "        self.holdings = self.transactions.reindex(\n",
    "            pd.date_range(\n",
    "                start=self.transactions.index[0],\n",
    "                end=datetime.date.today(),\n",
    "                freq='B'),\n",
    "            fill_value=0).cumsum() * self.splits.loc[self.transactions.index[0]:].cumprod()\n",
    "        self.holdings_value = self.holdings * self.prices.loc[self.transactions.index[0]:]\n",
    "        self.holdings_dividend = self.holdings * self.dividends.loc[self.transactions.index[0]:]\n",
    "        '''\n",
    "\n",
    "    def run(self):\n",
    "        self.holdings = self.transactions.cumsum() * self.splits\n",
    "        self.holdings_value_locale = self.holdings * self.prices\n",
    "        self.holdings_value = self.holdings_value_locale # / fx_rate\n",
    "        self.holdings_dividend_locale = self.holdings * self.dividends\n",
    "        self.holdings_dividend = self.holdings_dividend_locale # / fx_rate\n"
   ],
   "outputs": [],
   "metadata": {}
  },
  {
   "cell_type": "code",
   "execution_count": 5,
   "source": [
    "class Portfolio:\n",
    "    \n",
    "    def __init__(self, currency='USD'):\n",
    "        self.data = pd.DataFrame()\n",
    "        self.currency = currency\n",
    "        self.account = Account(self.currency)\n",
    "        self.securities = dict() # dictionary with Security object at key='TICKER NAME'\n",
    "        self.start_date = datetime.date.today()\n",
    "\n",
    "    def add_transaction(self, transaction):\n",
    "        if transaction.Date < self.start_date:\n",
    "            self.start_date = transaction.Date\n",
    "        getattr(self, transaction.Order)(transaction)\n",
    "\n",
    "    def deposit(self, transaction):\n",
    "        self.account.internal_flow(transaction.Date, transaction.Quantity * transaction.Price - transaction.Fee)\n",
    "        self.account.external_flow(transaction.Date, transaction.Quantity * transaction.Price)\n",
    "\n",
    "    def withdrawal(self, transaction):\n",
    "        self.account.internal_flow(transaction.Date, - transaction.Quantity * transaction.Price - transaction.Fee)\n",
    "        self.account.external_flow(transaction.Date, - transaction.Quantity * transaction.Price)\n",
    "\n",
    "    def purchase(self, transaction):\n",
    "        self.account.internal_flow(transaction.Date, - transaction.Quantity * transaction.Price - transaction.Fee)\n",
    "        tick = self.securities.setdefault(transaction.Ticker, Security(transaction.Ticker))\n",
    "        tick.record(transaction.Date, transaction.Quantity)\n",
    "\n",
    "    def sale(self, transaction):\n",
    "        self.account.internal_flow(transaction.Date, transaction.Quantity * transaction.Price - transaction.Fee)\n",
    "        tick = self.securities.setdefault(transaction.Ticker, Security(transaction.Ticker))\n",
    "        tick.record(transaction.Date, - transaction.Quantity)\n",
    "\n",
    "    def join_holdings(self):\n",
    "        self.holdings = pd.DataFrame()\n",
    "        '''\n",
    "        for security in self.securities.values():\n",
    "            security.run()\n",
    "            self.account.internal_transactions = self.account.internal_transactions + security.holdings_dividend\n",
    "            self.holdings = self.holdings.join(security.holdings_value.rename(security.name))\n",
    "        self.account.run()\n",
    "        self.holdings = self.holdings.join(self.account.holdings.rename(self.account.name))\n",
    "        '''\n",
    "\n",
    "    def run(self):\n",
    "        for date, transaction in self.data.iterrows():\n",
    "            self.add_transaction(date, transaction)\n",
    "        # self.join_holdings()\n",
    "        # self.generate_stats()\n"
   ],
   "outputs": [],
   "metadata": {}
  },
  {
   "cell_type": "code",
   "execution_count": 6,
   "source": [
    "aapl = Security('AAPL')\n",
    "aapl.record(pd.to_datetime('2021-09-30'), -100)\n",
    "aapl.record(pd.to_datetime('2021-09-21'), 300)\n",
    "aapl.record(pd.to_datetime('2021-09-10'), 200)\n",
    "aapl.transactions"
   ],
   "outputs": [
    {
     "output_type": "stream",
     "name": "stderr",
     "text": [
      "/var/folders/bk/yh3kcqrn6c1gx1yqf1lbzb1w0000gn/T/ipykernel_2073/1935690679.py:26: DeprecationWarning: The default dtype for empty Series will be 'object' instead of 'float64' in a future version. Specify a dtype explicitly to silence this warning.\n",
      "  self.transactions = pd.Series()\n"
     ]
    },
    {
     "output_type": "execute_result",
     "data": {
      "text/plain": [
       "2021-09-10    200\n",
       "2021-09-21    300\n",
       "2021-09-30   -100\n",
       "dtype: int64"
      ]
     },
     "metadata": {},
     "execution_count": 6
    }
   ],
   "metadata": {}
  },
  {
   "cell_type": "code",
   "execution_count": 7,
   "source": [
    "data=pd.read_csv(ROOT+\"/assets/portfolios/generic.csv\",sep=\",\",parse_dates=True)"
   ],
   "outputs": [],
   "metadata": {}
  },
  {
   "cell_type": "code",
   "execution_count": 9,
   "source": [
    "portfolio=Portfolio()"
   ],
   "outputs": [
    {
     "output_type": "stream",
     "name": "stderr",
     "text": [
      "/var/folders/bk/yh3kcqrn6c1gx1yqf1lbzb1w0000gn/T/ipykernel_2073/1935690679.py:6: DeprecationWarning: The default dtype for empty Series will be 'object' instead of 'float64' in a future version. Specify a dtype explicitly to silence this warning.\n",
      "  self.internal_transactions = pd.Series()\n",
      "/var/folders/bk/yh3kcqrn6c1gx1yqf1lbzb1w0000gn/T/ipykernel_2073/1935690679.py:7: DeprecationWarning: The default dtype for empty Series will be 'object' instead of 'float64' in a future version. Specify a dtype explicitly to silence this warning.\n",
      "  self.external_transactions = pd.Series()\n"
     ]
    }
   ],
   "metadata": {}
  },
  {
   "cell_type": "code",
   "execution_count": 10,
   "source": [
    "for i, transaction in data.iterrows():\n",
    "    portfolio.add(transaction)"
   ],
   "outputs": [
    {
     "output_type": "stream",
     "name": "stderr",
     "text": [
      "/var/folders/bk/yh3kcqrn6c1gx1yqf1lbzb1w0000gn/T/ipykernel_2073/1935690679.py:26: DeprecationWarning: The default dtype for empty Series will be 'object' instead of 'float64' in a future version. Specify a dtype explicitly to silence this warning.\n",
      "  self.transactions = pd.Series()\n"
     ]
    }
   ],
   "metadata": {}
  },
  {
   "cell_type": "code",
   "execution_count": 11,
   "source": [
    "portfolio.account.internal_transactions"
   ],
   "outputs": [
    {
     "output_type": "execute_result",
     "data": {
      "text/plain": [
       "2019-10-01    100000.00\n",
       "2019-10-12    -20672.76\n",
       "2019-11-24    -37100.00\n",
       "2019-12-04     13368.00\n",
       "2020-01-06    -20810.00\n",
       "2020-01-25    -30000.00\n",
       "dtype: float64"
      ]
     },
     "metadata": {},
     "execution_count": 11
    }
   ],
   "metadata": {}
  },
  {
   "cell_type": "code",
   "execution_count": null,
   "source": [],
   "outputs": [],
   "metadata": {}
  }
 ],
 "metadata": {
  "interpreter": {
   "hash": "0b5643ab6ff4bc1526bdcc6dfd149a07dcd4f6e161d6339dee6cd2196d7746c0"
  },
  "kernelspec": {
   "name": "python3",
   "display_name": "Python 3.9.7 64-bit ('ppa': conda)"
  },
  "language_info": {
   "codemirror_mode": {
    "name": "ipython",
    "version": 3
   },
   "file_extension": ".py",
   "mimetype": "text/x-python",
   "name": "python",
   "nbconvert_exporter": "python",
   "pygments_lexer": "ipython3",
   "version": "3.9.7"
  }
 },
 "nbformat": 4,
 "nbformat_minor": 4
}