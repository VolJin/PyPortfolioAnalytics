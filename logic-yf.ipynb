{
 "cells": [
  {
   "cell_type": "code",
   "execution_count": 1,
   "metadata": {},
   "outputs": [],
   "source": [
    "import pandas as pd\n",
    "import datetime\n",
    "import pyxirr\n",
    "import yfinance as yf"
   ]
  },
  {
   "cell_type": "code",
   "execution_count": 2,
   "metadata": {},
   "outputs": [],
   "source": [
    "class Account:\n",
    "\n",
    "    def __init__(self, currency, timeline):\n",
    "        self.currency = currency\n",
    "        self.name = 'CASH.' + self.currency\n",
    "        self.internal_transactions = pd.Series(0, index=timeline)\n",
    "        self.external_transactions = pd.Series(0, index=timeline)\n",
    "    \n",
    "    def internal_flow(self, date, amount):\n",
    "        self.internal_transactions.at[date] = self.internal_transactions.at[date] + amount\n",
    "\n",
    "    def external_flow(self, date, amount):\n",
    "        self.external_transactions.at[date] = self.external_transactions.at[date] + amount\n",
    "\n",
    "    def process_data(self):\n",
    "        self.holdings = self.internal_transactions.cumsum()\n",
    "        self.invested_capital = self.external_transactions.cumsum()"
   ]
  },
  {
   "cell_type": "code",
   "execution_count": 3,
   "metadata": {},
   "outputs": [],
   "source": [
    "class Fx:\n",
    "    # home currency is account currency\n",
    "    def __init__(self, home, foreign, timeline):\n",
    "        day = datetime.timedelta(days=1)\n",
    "        if foreign != home:\n",
    "            if home == 'USD':\n",
    "                self.name = foreign + '=X'\n",
    "            else:\n",
    "                self.name = home + foreign + '=X'\n",
    "            self.fx_rates = yf.Ticker(self.name).history(start=timeline[0] + day, end=timeline[-1] + day)['Close'].reindex(index=timeline).fillna(method='ffill')\n",
    "        else:\n",
    "            self.fx_rates = 1"
   ]
  },
  {
   "cell_type": "code",
   "execution_count": 4,
   "metadata": {},
   "outputs": [],
   "source": [
    "class Ticker:\n",
    "    \n",
    "    def __init__(self, name, timeline, fx_rates):\n",
    "        self.name = name\n",
    "        self.fx_rates = fx_rates\n",
    "        self.transactions = pd.Series(0, index=timeline)\n",
    "        day = datetime.timedelta(days=1)\n",
    "        self.data = yf.Ticker(self.name).history(start=timeline[0] + day, end=timeline[-1] + day).reindex(index=timeline)\n",
    "        self.local_prices = self.data['Close'].fillna(method='ffill')\n",
    "        self.prices = self.local_prices.divide(self.fx_rates)\n",
    "        self.dividends = self.data['Dividends'].fillna(0)\n",
    "        self.splits = self.data['Stock Splits'].fillna(1).replace(0, 1).iloc[::-1].cumprod().iloc[::-1]\n",
    "\n",
    "    def update(self, date, amount):\n",
    "        self.transactions.at[date] = self.transactions.at[date] + amount\n",
    "\n",
    "    def process_data(self):\n",
    "        self.holdings = (self.transactions.multiply(self.splits)).cumsum()\n",
    "        self.holdings_local_value = self.holdings.multiply(self.local_prices)\n",
    "        self.holdings_value = self.holdings.multiply(self.prices).rename(self.name)"
   ]
  },
  {
   "cell_type": "code",
   "execution_count": 5,
   "metadata": {},
   "outputs": [],
   "source": [
    "class Portfolio:\n",
    "\n",
    "    def __init__(self, filename, currency):\n",
    "        self.data = pd.read_csv(filename, sep=',', index_col='Date', parse_dates=True).sort_index()\n",
    "        self.timeline = pd.date_range(start=self.data.index[0].date(), end=datetime.date.today())\n",
    "        self.currency = currency\n",
    "        self.account = Account(self.currency, self.timeline)\n",
    "        self.tickers = dict() # dictionary with Ticker object at key='TICKER NAME'\n",
    "        self.ccys = dict()\n",
    "\n",
    "    def process_data(self):\n",
    "        for date, transaction in self.data.iterrows():\n",
    "            self.add_transaction(date, transaction)\n",
    "        self.dividend()\n",
    "        self.account.process_data()\n",
    "        self.join_holdings()\n",
    "        self.generate_stats()\n",
    "\n",
    "    def add_transaction(self, date, transaction):\n",
    "        getattr(self, transaction.Order)(date, transaction)\n",
    "    \n",
    "    def deposit(self, date, transaction):\n",
    "        self.account.internal_flow(date, transaction.Quantity * transaction.Price - transaction.Fee)\n",
    "        self.account.external_flow(date, transaction.Quantity * transaction.Price)\n",
    "\n",
    "    def withdrawal(self, date, transaction):\n",
    "        self.account.internal_flow(date, - transaction.Quantity * transaction.Price - transaction.Fee)\n",
    "        self.account.external_flow(date, - transaction.Quantity * transaction.Price)\n",
    "    \n",
    "    def purchase(self, date, transaction):\n",
    "        self.account.internal_flow(date,- transaction.Quantity * transaction.Price - transaction.Fee )\n",
    "        ccy = self.ccys.setdefault(transaction.Currency, Fx(self.currency, transaction.Currency, self.timeline))\n",
    "        tick = self.tickers.setdefault(transaction.Ticker, Ticker(transaction.Ticker, self.timeline, ccy.fx_rates))\n",
    "        tick.update(date, transaction.Quantity)\n",
    "\n",
    "    def sale(self, date, transaction):\n",
    "        self.account.internal_flow(date, transaction.Quantity * transaction.Price - transaction.Fee)\n",
    "        ccy = self.ccys.setdefault(transaction.Currency, Fx(self.currency, transaction.Currency, self.timeline))\n",
    "        tick = self.tickers.setdefault(transaction.Ticker, Ticker(transaction.Ticker, self.timeline, ccy.fx_rates))\n",
    "        tick.update(date, - transaction.Quantity)\n",
    "\n",
    "    def dividend(self):\n",
    "        for ticker in self.tickers.values():\n",
    "            ticker.process_data()\n",
    "            # self.account.internal_transactions = self.account.internal_transactions + ticker.dividends.multiply(ticker.holdings).divide(ticker.fx_rates)\n",
    "\n",
    "    def join_holdings(self):\n",
    "        self.holdings = pd.DataFrame(self.account.holdings, columns=[self.account.name])\n",
    "        for ticker in self.tickers.values():\n",
    "            self.holdings = self.holdings.join(ticker.holdings_value)\n",
    "\n",
    "    def generate_stats(self):\n",
    "        self.value = self.holdings.sum(axis=1)\n",
    "        self.pl = self.value - self.account.invested_capital\n",
    "        self.pctpl = self.pl / self.account.invested_capital\n",
    "        self.cash_flows = - self.account.external_transactions\n",
    "        self.cash_flows.iloc[-1] = self.cash_flows.iloc[-1] + self.value.iloc[-1]\n",
    "        self.xirr = pyxirr.xirr(self.cash_flows.index, self.cash_flows.values)\n",
    "\n",
    "    def run_benchmark(self, ticker):\n",
    "        day = datetime.timedelta(days=1)\n",
    "        benchmark = yf.download(tickers = ticker, start=self.timeline[0] + day, end=self.timeline[-1] + day)['Adj Close'].reindex(index=self.timeline, method='ffill').fillna(method='ffill')\n",
    "        benchmark = benchmark/benchmark[0]-1\n",
    "        self.benchmark = pd.concat({\n",
    "            'Portfolio': self.pctpl,\n",
    "            ticker: benchmark,\n",
    "        }, axis=1)"
   ]
  },
  {
   "cell_type": "code",
   "execution_count": 6,
   "metadata": {},
   "outputs": [],
   "source": [
    "portfolio = Portfolio('./samples/sample-currency.csv', 'EUR')"
   ]
  },
  {
   "cell_type": "code",
   "execution_count": 7,
   "metadata": {},
   "outputs": [],
   "source": [
    "portfolio.process_data()"
   ]
  },
  {
   "cell_type": "code",
   "execution_count": 8,
   "metadata": {},
   "outputs": [
    {
     "name": "stdout",
     "output_type": "stream",
     "text": [
      "[*********************100%***********************]  1 of 1 completed\n"
     ]
    }
   ],
   "source": [
    "portfolio.run_benchmark('SPY')"
   ]
  },
  {
   "cell_type": "code",
   "execution_count": 9,
   "metadata": {},
   "outputs": [
    {
     "data": {
      "text/plain": [
       "<AxesSubplot:>"
      ]
     },
     "execution_count": 9,
     "metadata": {},
     "output_type": "execute_result"
    },
    {
     "data": {
      "image/png": "[encoded data removed]",
      "text/plain": [
       "<Figure size 432x288 with 1 Axes>"
      ]
     },
     "metadata": {
      "needs_background": "light"
     },
     "output_type": "display_data"
    }
   ],
   "source": [
    "portfolio.benchmark.plot()"
   ]
  },
  {
   "cell_type": "code",
   "execution_count": 10,
   "metadata": {},
   "outputs": [
    {
     "data": {
      "text/plain": [
       "<AxesSubplot:ylabel='2021-08-10 00:00:00'>"
      ]
     },
     "execution_count": 10,
     "metadata": {},
     "output_type": "execute_result"
    },
    {
     "data": {
      "image/png": "[encoded data removed]",
      "text/plain": [
       "<Figure size 432x288 with 1 Axes>"
      ]
     },
     "metadata": {},
     "output_type": "display_data"
    }
   ],
   "source": [
    "portfolio.holdings.iloc[-1].plot.pie()"
   ]
  },
  {
   "cell_type": "code",
   "execution_count": 11,
   "metadata": {},
   "outputs": [
    {
     "data": {
      "text/plain": [
       "0.08319373031797173"
      ]
     },
     "execution_count": 11,
     "metadata": {},
     "output_type": "execute_result"
    }
   ],
   "source": [
    "portfolio.xirr"
   ]
  },
  {
   "cell_type": "code",
   "execution_count": 12,
   "metadata": {},
   "outputs": [
    {
     "data": {
      "text/plain": [
       "<AxesSubplot:>"
      ]
     },
     "execution_count": 12,
     "metadata": {},
     "output_type": "execute_result"
    },
    {
     "data": {
      "image/png": "[encoded data removed]",
      "text/plain": [
       "<Figure size 432x288 with 1 Axes>"
      ]
     },
     "metadata": {
      "needs_background": "light"
     },
     "output_type": "display_data"
    }
   ],
   "source": [
    "portfolio.holdings.plot()"
   ]
  },
  {
   "cell_type": "code",
   "execution_count": 13,
   "metadata": {},
   "outputs": [
    {
     "data": {
      "text/plain": [
       "21424.143592995428"
      ]
     },
     "execution_count": 13,
     "metadata": {},
     "output_type": "execute_result"
    }
   ],
   "source": [
    "portfolio.value.iloc[-1]"
   ]
  },
  {
   "cell_type": "code",
   "execution_count": null,
   "metadata": {},
   "outputs": [],
   "source": []
  }
 ],
 "metadata": {
  "interpreter": {
   "hash": "c0af7032b20d37303788688a97372cf096898cea3885e182ddd9f93df44596fd"
  },
  "kernelspec": {
   "display_name": "Python 3 (ipykernel)",
   "language": "python",
   "name": "python3"
  },
  "language_info": {
   "codemirror_mode": {
    "name": "ipython",
    "version": 3
   },
   "file_extension": ".py",
   "mimetype": "text/x-python",
   "name": "python",
   "nbconvert_exporter": "python",
   "pygments_lexer": "ipython3",
   "version": "3.9.6"
  }
 },
 "nbformat": 4,
 "nbformat_minor": 4
}
