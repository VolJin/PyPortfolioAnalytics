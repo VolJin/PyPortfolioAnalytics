{
 "cells": [
  {
   "cell_type": "code",
   "execution_count": 83,
   "source": [
    "import pandas as pd\n",
    "import numpy as np\n",
    "import datetime\n",
    "import pyxirr\n",
    "from alpha_vantage.timeseries import TimeSeries\n",
    "from alpha_vantage.foreignexchange import ForeignExchange\n",
    "from alpha_vantage.fundamentaldata import FundamentalData"
   ],
   "outputs": [],
   "metadata": {}
  },
  {
   "cell_type": "code",
   "execution_count": 84,
   "source": [
    "api_file = open('./api-key.txt', 'r')\n",
    "api_key = api_file.read()\n",
    "api_file.close()\n",
    "\n",
    "# Alpha Vantage wrapper setup\n",
    "ts = TimeSeries(key=api_key, output_format='pandas', indexing_type='date')\n",
    "cc = ForeignExchange(key=api_key, output_format='pandas', indexing_type='date')\n",
    "fd = FundamentalData(key=api_key, output_format='pandas')"
   ],
   "outputs": [],
   "metadata": {}
  },
  {
   "cell_type": "code",
   "execution_count": 85,
   "source": [
    "class Account:\n",
    "\n",
    "    def __init__(self, currency, timeline):\n",
    "        self.currency = currency\n",
    "        self.name = 'CASH.' + self.currency\n",
    "        self.internal_transactions = pd.Series(0, index=timeline)\n",
    "        self.external_transactions = pd.Series(0, index=timeline)\n",
    "    \n",
    "    def internal_flow(self, date, amount):\n",
    "        self.internal_transactions.at[date] = self.internal_transactions.at[date] + amount\n",
    "\n",
    "    def external_flow(self, date, amount):\n",
    "        self.external_transactions.at[date] = self.external_transactions.at[date] + amount\n",
    "\n",
    "    def run(self):\n",
    "        self.holdings = self.internal_transactions.cumsum()\n",
    "        self.invested_capital = self.external_transactions.cumsum()"
   ],
   "outputs": [],
   "metadata": {}
  },
  {
   "cell_type": "code",
   "execution_count": 86,
   "source": [
    "class Ticker:\n",
    "\n",
    "    def __init__(self, name, timeline):\n",
    "        self.name = name\n",
    "        self.transactions = pd.Series(0, name=self.name, index=timeline)\n",
    "        try:\n",
    "            self.data = pd.read_csv('./data/'+self.name+'.csv', sep=',', index_col='date', parse_dates=True)\n",
    "        except FileNotFoundError:\n",
    "            self.data = ts.get_daily_adjusted(self.name, outputsize='full')[0].iloc[::-1]\n",
    "            self.data.to_csv(r'./data/'+self.name+'.csv')\n",
    "        self.data = self.data.reindex(index=timeline, method='nearest').fillna(method='ffill').loc[timeline[0]:timeline[-1]]\n",
    "        self.prices = self.data['4. close']\n",
    "        self.dividends = self.data['7. dividend amount']\n",
    "        self.splits = self.data['8. split coefficient'].cumprod()\n",
    "        # self.overview = fd.get_company_overview(symbol='MSFT')[0]\n",
    "        # self.currency = self.overview['Currency']\n",
    "        # self.sector = self.overview['Sector']\n",
    "\n",
    "    def update(self, date, amount):\n",
    "        self.transactions.at[date] = self.transactions.at[date] + amount\n",
    "\n",
    "    def run(self):\n",
    "        self.holdings = self.transactions.cumsum() * self.splits\n",
    "        self.holdings_value_locale = self.holdings * self.prices\n",
    "        self.holdings_value = self.holdings_value_locale.rename(self.name) # / fx_rate"
   ],
   "outputs": [],
   "metadata": {}
  },
  {
   "cell_type": "code",
   "execution_count": 97,
   "source": [
    "class Portfolio:\n",
    "    \n",
    "    def __init__(self, filename, currency):\n",
    "        self.data = pd.read_csv(filename, sep=',', index_col='Date', parse_dates=True).sort_index()\n",
    "        self.timeline = pd.date_range(start=self.data.index[0].date(), end=datetime.date.today())\n",
    "        self.currency = currency\n",
    "        self.account = Account(self.currency, self.timeline)\n",
    "        self.tickers = dict() # dictionary with Ticker object at key='TICKER NAME'\n",
    "        self._processed = False\n",
    "    \n",
    "    def run(self):\n",
    "        if not self._processed:\n",
    "            for date, transaction in self.data.iterrows():\n",
    "                self.add_transaction(date, transaction)\n",
    "            for ticker in self.tickers.values():\n",
    "                ticker.run()\n",
    "                # add dividends to account\n",
    "                self.account.internal_transactions = self.account.internal_transactions + ticker.dividends * ticker.holdings # / fx_rate\n",
    "            self.account.run()\n",
    "            self.join_holdings()\n",
    "            self.generate_stats()\n",
    "        self._processed = True\n",
    "\n",
    "    def add_transaction(self, date, transaction):\n",
    "        # pick correct function without ifs\n",
    "        getattr(self, transaction.Order)(date, transaction)\n",
    "    \n",
    "    def deposit(self, date, transaction):\n",
    "        self.account.internal_flow(date, transaction.Quantity * transaction.Price - transaction.Fee)\n",
    "        self.account.external_flow(date, transaction.Quantity * transaction.Price)\n",
    "\n",
    "    def withdrawal(self, date, transaction):\n",
    "        self.account.internal_flow(date, - transaction.Quantity * transaction.Price - transaction.Fee)\n",
    "        self.account.external_flow(date, - transaction.Quantity * transaction.Price)\n",
    "    \n",
    "    def purchase(self, date, transaction):\n",
    "        self.account.internal_flow(date,- transaction.Quantity * transaction.Price - transaction.Fee ) # / fx_rate\n",
    "        tick = self.tickers.setdefault(transaction.Ticker, Ticker(transaction.Ticker, self.timeline))\n",
    "        tick.update(date, transaction.Quantity)\n",
    "\n",
    "    def sale(self, date, transaction):\n",
    "        self.account.internal_flow(date, transaction.Quantity * transaction.Price - transaction.Fee) # / fx_rate\n",
    "        tick = self.tickers.setdefault(transaction.Ticker, Ticker(transaction.Ticker, self.timeline))\n",
    "        tick.update(date, - transaction.Quantity)\n",
    "\n",
    "    def join_holdings(self):\n",
    "        self.holdings = pd.DataFrame(self.account.holdings, columns=[self.account.name])\n",
    "        for ticker in self.tickers.values():\n",
    "            self.holdings = self.holdings.join(ticker.holdings_value)\n",
    "\n",
    "    def generate_stats(self):\n",
    "        self.value = self.holdings.sum(axis=1)\n",
    "        self.daily_gross_ret = self.value/self.value.shift(periods=1)\n",
    "        self.daily_ret = self.daily_gross_ret - 1\n",
    "        self.daily_log_ret = np.log(self.daily_gross_ret)\n",
    "        self.semistd = self.daily_ret[self.daily_ret < self.daily_ret.mean()].std()\n",
    "        self.pl = self.value - self.account.invested_capital\n",
    "        self.pctpl = self.pl / self.account.invested_capital\n",
    "        self.cash_flows = - self.account.external_transactions\n",
    "        self.cash_flows.iloc[-1] = self.cash_flows.iloc[-1] + self.value.iloc[-1]\n",
    "        self.xirr = pyxirr.xirr(self.cash_flows.index, self.cash_flows.values)\n",
    "        self.cagr = (self.value[-1]/self.value[0])**(365/self.timeline.shape[0])-1 # meaningless with withdrawals\n",
    "        \n",
    "    def benchmark(self, ticker):\n",
    "        bench = Ticker(ticker, self.timeline).data['5. adjusted close']\n",
    "        return pd.concat({\n",
    "            'Portfolio': self.pctpl,\n",
    "            ticker: (bench/bench[0]-1),\n",
    "        }, axis=1)\n",
    "        "
   ],
   "outputs": [],
   "metadata": {}
  },
  {
   "cell_type": "code",
   "execution_count": 98,
   "source": [
    "portfolio = Portfolio('./samples/sample-5050.csv', 'USD')"
   ],
   "outputs": [],
   "metadata": {}
  },
  {
   "cell_type": "code",
   "execution_count": 99,
   "source": [
    "portfolio.run()"
   ],
   "outputs": [],
   "metadata": {}
  },
  {
   "cell_type": "code",
   "execution_count": 100,
   "source": [
    "portfolio.benchmark('SPY').plot()"
   ],
   "outputs": [
    {
     "output_type": "execute_result",
     "data": {
      "text/plain": [
       "<AxesSubplot:>"
      ]
     },
     "metadata": {},
     "execution_count": 100
    },
    {
     "output_type": "display_data",
     "data": {
      "text/plain": [
       "<Figure size 432x288 with 1 Axes>"
      ],
      "image/png": "[encoded data removed]"
     },
     "metadata": {
      "needs_background": "light"
     }
    }
   ],
   "metadata": {}
  },
  {
   "cell_type": "code",
   "execution_count": 107,
   "source": [
    "portfolio.daily_log_ret.plot.hist(bins=50)"
   ],
   "outputs": [
    {
     "output_type": "execute_result",
     "data": {
      "text/plain": [
       "<AxesSubplot:ylabel='Frequency'>"
      ]
     },
     "metadata": {},
     "execution_count": 107
    },
    {
     "output_type": "display_data",
     "data": {
      "text/plain": [
       "<Figure size 432x288 with 1 Axes>"
      ],
      "image/png": "[encoded data removed]"
     },
     "metadata": {
      "needs_background": "light"
     }
    }
   ],
   "metadata": {}
  },
  {
   "cell_type": "code",
   "execution_count": null,
   "source": [],
   "outputs": [],
   "metadata": {}
  }
 ],
 "metadata": {
  "interpreter": {
   "hash": "c0af7032b20d37303788688a97372cf096898cea3885e182ddd9f93df44596fd"
  },
  "kernelspec": {
   "display_name": "Python 3 (ipykernel)",
   "language": "python",
   "name": "python3"
  },
  "language_info": {
   "codemirror_mode": {
    "name": "ipython",
    "version": 3
   },
   "file_extension": ".py",
   "mimetype": "text/x-python",
   "name": "python",
   "nbconvert_exporter": "python",
   "pygments_lexer": "ipython3",
   "version": "3.9.6"
  }
 },
 "nbformat": 4,
 "nbformat_minor": 4
}