{
 "cells": [
  {
   "cell_type": "code",
   "execution_count": 1,
   "id": "39d8abd8-2003-49e7-83bd-4733ebd25b8b",
   "metadata": {},
   "outputs": [],
   "source": [
    "import datetime\n",
    "import pandas as pd\n",
    "import numpy as np\n",
    "import yfinance as yf\n",
    "import pyxirr\n",
    "import matplotlib.pyplot as plt\n",
    "plt.style.use('seaborn-bright')\n",
    "plt.style.use('seaborn-whitegrid')\n",
    "\n",
    "class pct(float):\n",
    "    def __str__(self):\n",
    "        return '{:.4%}'.format(self)"
   ]
  },
  {
   "cell_type": "code",
   "execution_count": 2,
   "id": "0e749f75-9639-4131-9b03-5b47867e522c",
   "metadata": {},
   "outputs": [],
   "source": [
    "# import formatted list of transaction\n",
    "input_data = pd.read_csv('./test-portfolio.csv', sep=',', index_col='Date', parse_dates=True).sort_index()"
   ]
  },
  {
   "cell_type": "code",
   "execution_count": 3,
   "id": "218bd96a-76a9-40fd-a88b-1d32818cbe8b",
   "metadata": {},
   "outputs": [
    {
     "data": {
      "text/html": [
       "<div>\n",
       "<style scoped>\n",
       "    .dataframe tbody tr th:only-of-type {\n",
       "        vertical-align: middle;\n",
       "    }\n",
       "\n",
       "    .dataframe tbody tr th {\n",
       "        vertical-align: top;\n",
       "    }\n",
       "\n",
       "    .dataframe thead th {\n",
       "        text-align: right;\n",
       "    }\n",
       "</style>\n",
       "<table border=\"1\" class=\"dataframe\">\n",
       "  <thead>\n",
       "    <tr style=\"text-align: right;\">\n",
       "      <th></th>\n",
       "      <th>Ticker</th>\n",
       "      <th>Order</th>\n",
       "      <th>Price</th>\n",
       "      <th>Quantity</th>\n",
       "      <th>Fee</th>\n",
       "    </tr>\n",
       "    <tr>\n",
       "      <th>Date</th>\n",
       "      <th></th>\n",
       "      <th></th>\n",
       "      <th></th>\n",
       "      <th></th>\n",
       "      <th></th>\n",
       "    </tr>\n",
       "  </thead>\n",
       "  <tbody>\n",
       "    <tr>\n",
       "      <th>2019-10-01</th>\n",
       "      <td>LIQUIDITY</td>\n",
       "      <td>deposit</td>\n",
       "      <td>1.00</td>\n",
       "      <td>100000</td>\n",
       "      <td>0</td>\n",
       "    </tr>\n",
       "    <tr>\n",
       "      <th>2019-10-12</th>\n",
       "      <td>AAPL</td>\n",
       "      <td>purchase</td>\n",
       "      <td>61.50</td>\n",
       "      <td>350</td>\n",
       "      <td>35</td>\n",
       "    </tr>\n",
       "    <tr>\n",
       "      <th>2019-11-24</th>\n",
       "      <td>MSFT</td>\n",
       "      <td>purchase</td>\n",
       "      <td>148.30</td>\n",
       "      <td>250</td>\n",
       "      <td>25</td>\n",
       "    </tr>\n",
       "    <tr>\n",
       "      <th>2019-12-04</th>\n",
       "      <td>AAPL</td>\n",
       "      <td>sale</td>\n",
       "      <td>57.03</td>\n",
       "      <td>200</td>\n",
       "      <td>20</td>\n",
       "    </tr>\n",
       "    <tr>\n",
       "      <th>2020-01-06</th>\n",
       "      <td>FB</td>\n",
       "      <td>purchase</td>\n",
       "      <td>208.00</td>\n",
       "      <td>100</td>\n",
       "      <td>10</td>\n",
       "    </tr>\n",
       "    <tr>\n",
       "      <th>2020-01-25</th>\n",
       "      <td>LIQUIDITY</td>\n",
       "      <td>withdrawal</td>\n",
       "      <td>1.00</td>\n",
       "      <td>30000</td>\n",
       "      <td>0</td>\n",
       "    </tr>\n",
       "  </tbody>\n",
       "</table>\n",
       "</div>"
      ],
      "text/plain": [
       "               Ticker       Order   Price  Quantity  Fee\n",
       "Date                                                    \n",
       "2019-10-01  LIQUIDITY     deposit    1.00    100000    0\n",
       "2019-10-12       AAPL    purchase   61.50       350   35\n",
       "2019-11-24       MSFT    purchase  148.30       250   25\n",
       "2019-12-04       AAPL        sale   57.03       200   20\n",
       "2020-01-06         FB    purchase  208.00       100   10\n",
       "2020-01-25  LIQUIDITY  withdrawal    1.00     30000    0"
      ]
     },
     "execution_count": 3,
     "metadata": {},
     "output_type": "execute_result"
    }
   ],
   "source": [
    "input_data"
   ]
  },
  {
   "cell_type": "code",
   "execution_count": 4,
   "id": "16598b05-b40c-42f2-8fdb-6ca6ea5266ba",
   "metadata": {},
   "outputs": [],
   "source": [
    "# utilities\n",
    "tickers = input_data.Ticker.unique()\n",
    "tickers = tickers[tickers != 'LIQUIDITY']\n",
    "tickers.sort()\n",
    "start_date = input_data.index[0].date()\n",
    "end_date = datetime.date(2020,1,29) \n",
    "timeline = pd.date_range(start=start_date, end=end_date)\n",
    "years = timeline.shape[0]/365\n",
    "day = datetime.timedelta(days=1)"
   ]
  },
  {
   "cell_type": "code",
   "execution_count": 5,
   "id": "26614d72-2d80-4669-adee-a669fafcf662",
   "metadata": {},
   "outputs": [],
   "source": [
    "# download actions and make them input_data\n",
    "for ticker in tickers:\n",
    "    spls = yf.Ticker(ticker).splits.loc[start_date + day : end_date + day]\n",
    "    for date, split in spls.iteritems():\n",
    "        input_data.loc[date] = [ticker, 'split', split, 0, 0]"
   ]
  },
  {
   "cell_type": "code",
   "execution_count": 6,
   "id": "ca62aefe-726e-4d3d-b9a4-1129a9093084",
   "metadata": {},
   "outputs": [
    {
     "name": "stdout",
     "output_type": "stream",
     "text": [
      "[*********************100%***********************]  3 of 3 completed\n"
     ]
    }
   ],
   "source": [
    "market_values = yf.download(list(tickers), start=start_date + day, end=end_date + day)['Adj Close']\n",
    "market_values = market_values.asfreq(freq='1D', method='ffill')"
   ]
  },
  {
   "cell_type": "code",
   "execution_count": 7,
   "id": "c7e343c3-82ba-4f2f-a574-8a55598fcc67",
   "metadata": {},
   "outputs": [],
   "source": [
    "prices = pd.DataFrame(0, columns=tickers, index = timeline)\n",
    "mkt_trans = pd.DataFrame(0, columns=tickers, index = timeline)\n",
    "splits = pd.DataFrame(1, columns=tickers, index = timeline)\n",
    "holdings = pd.DataFrame(0, columns=tickers, index = timeline)"
   ]
  },
  {
   "cell_type": "code",
   "execution_count": 8,
   "id": "d1e02fcb-b52e-4f1c-92bc-1407e1193118",
   "metadata": {},
   "outputs": [],
   "source": [
    "account = pd.DataFrame(0, columns=['ext_mov', 'inv_cap', 'int_mov', 'holding'], index = timeline)"
   ]
  },
  {
   "cell_type": "code",
   "execution_count": 9,
   "id": "dcfa0760-7254-4124-841f-af578e836670",
   "metadata": {},
   "outputs": [],
   "source": [
    "def deposit(date, trans):\n",
    "    account.ext_mov.loc[date] = account.ext_mov.loc[date] + trans.Quantity * trans.Price\n",
    "    account.int_mov.loc[date] = account.int_mov.loc[date] + trans.Quantity * trans.Price - trans.Fee\n",
    "\n",
    "def withdrawal(date, trans):\n",
    "    account.ext_mov.loc[date] = account.ext_mov.loc[date] - trans.Quantity * trans.Price\n",
    "    account.int_mov.loc[date] = account.int_mov.loc[date] - trans.Quantity * trans.Price - trans.Fee\n",
    "    \n",
    "def reinvestment(date, trans):\n",
    "    account.int_mov.loc[date] = account.int_mov.loc[date] + trans.Quantity * trans.Price - trans.Fee\n",
    "\n",
    "def purchase(date, trans):\n",
    "    account.int_mov.loc[date] = account.int_mov.loc[date] - trans.Quantity * trans.Price - trans.Fee\n",
    "    mkt_trans.loc[date, trans.Ticker] = mkt_trans.loc[date, trans.Ticker] + trans.Quantity\n",
    "\n",
    "def sell(date, trans):\n",
    "    account.int_mov.loc[date] = account.int_mov.loc[date] + trans.Quantity * trans.Price - trans.Fee\n",
    "    mkt_trans.loc[date, trans.Ticker] = mkt_trans.loc[date, trans.Ticker] - trans.Quantity\n",
    "\n",
    "def dividend(date, trans):\n",
    "    reinvestment(date, trans)\n",
    "\n",
    "def split(date, trans):\n",
    "    splits.loc[date] = trans.Price"
   ]
  },
  {
   "cell_type": "code",
   "execution_count": 10,
   "id": "74c12c01-e371-4d57-bc1d-765b5662e201",
   "metadata": {},
   "outputs": [],
   "source": [
    "def event(date, trans):\n",
    "    if trans.Order == 'purchase':\n",
    "        purchase(date, trans)\n",
    "    elif trans.Order == 'sale':\n",
    "        sell(date, trans)\n",
    "    elif trans.Order == 'split':\n",
    "        split(date, trans)\n",
    "    else:\n",
    "        pass\n",
    "\n",
    "def event_cash(date, trans):\n",
    "    if trans.Order == 'deposit':\n",
    "        deposit(date, trans)\n",
    "    elif trans.Order == 'withdrawal':\n",
    "        withdrawal(date, trans)\n",
    "    elif trans.Order == 'reinvestment':\n",
    "        reinvestment(date, trans)\n",
    "    elif trans.Order == 'dividend':\n",
    "        dividend(date, trans)\n",
    "    else:\n",
    "        pass"
   ]
  },
  {
   "cell_type": "code",
   "execution_count": 11,
   "id": "c3773a10-7531-41ac-90df-7d50ca93f180",
   "metadata": {},
   "outputs": [],
   "source": [
    "def backfill(df, delta):\n",
    "    for i in range(df.shape[0]):\n",
    "        prev = 0\n",
    "        if i > 0:\n",
    "            prev = df.iloc[i-1]\n",
    "        df.iloc[i] = prev + delta.iloc[i]\n",
    "\n",
    "def forwprod(df):\n",
    "    for i in reversed(range(df.shape[0])):\n",
    "        nex = 1\n",
    "        if i < df.shape[0]-2:\n",
    "            nex = df.iloc[i+1]\n",
    "        df.iloc[i] = nex * df.iloc[i]"
   ]
  },
  {
   "cell_type": "code",
   "execution_count": 12,
   "id": "b53558f9-b2a9-4c2b-a0e3-7a23a630342b",
   "metadata": {},
   "outputs": [],
   "source": [
    "for date, transaction in input_data.iterrows():\n",
    "    event(date, transaction)\n",
    "backfill(holdings, mkt_trans*splits)"
   ]
  },
  {
   "cell_type": "code",
   "execution_count": 13,
   "id": "6f7b41f3-80ae-474a-bee2-483399251325",
   "metadata": {},
   "outputs": [],
   "source": [
    "# download actions and make them input_data\n",
    "for ticker in tickers:\n",
    "    divs = yf.Ticker(ticker).dividends.loc[start_date + day : end_date + day]\n",
    "    for date, div in divs.iteritems():\n",
    "        input_data.loc[date] = [ticker, 'dividend', div, holdings.loc[date, ticker], 0]"
   ]
  },
  {
   "cell_type": "code",
   "execution_count": 14,
   "id": "e0bbe655-feec-490d-9c18-12da74585f06",
   "metadata": {},
   "outputs": [],
   "source": [
    "for date, transaction in input_data.iterrows():\n",
    "    event_cash(date, transaction)"
   ]
  },
  {
   "cell_type": "code",
   "execution_count": 15,
   "id": "67a58368-0715-4658-8524-0e17b3caa11c",
   "metadata": {},
   "outputs": [
    {
     "name": "stderr",
     "output_type": "stream",
     "text": [
      "/opt/homebrew/Caskroom/miniforge/base/envs/fin/lib/python3.9/site-packages/pandas/core/indexing.py:1732: SettingWithCopyWarning: \n",
      "A value is trying to be set on a copy of a slice from a DataFrame\n",
      "\n",
      "See the caveats in the documentation: https://pandas.pydata.org/pandas-docs/stable/user_guide/indexing.html#returning-a-view-versus-a-copy\n",
      "  self._setitem_single_block(indexer, value, name)\n"
     ]
    }
   ],
   "source": [
    "backfill(account.inv_cap, account.ext_mov)\n",
    "backfill(account.holding, account.int_mov)"
   ]
  },
  {
   "cell_type": "code",
   "execution_count": 16,
   "id": "d6ceeddc-71c1-4bdf-a075-58691b66dee1",
   "metadata": {},
   "outputs": [],
   "source": [
    "holdings_values = pd.DataFrame((holdings * market_values), columns=tickers, index=timeline)\n",
    "holdings_values['LIQUIDITY'] = account.holding"
   ]
  },
  {
   "cell_type": "code",
   "execution_count": 17,
   "id": "760832bd-1a50-4708-9bdf-acfe7b71cbe3",
   "metadata": {},
   "outputs": [],
   "source": [
    "portfolio = pd.DataFrame(0, columns=['Value'], index = timeline)\n",
    "portfolio['Value'] = holdings_values.sum(axis=1)\n",
    "portfolio['P/L'] = portfolio['Value'] - account.inv_cap\n",
    "portfolio['%P/L'] = portfolio['P/L'] / account.inv_cap\n",
    "portfolio['%day'] = portfolio['Value'].pct_change()\n",
    "portfolio['Log Ret'] = np.log(portfolio['Value'] / portfolio['Value'].shift(1))"
   ]
  },
  {
   "cell_type": "code",
   "execution_count": 18,
   "id": "fd726b66-50ea-45f4-ad22-2ca9a4aa0fc7",
   "metadata": {},
   "outputs": [],
   "source": [
    "cash_flows = - account.ext_mov\n",
    "cash_flows.iloc[-1] = portfolio['Value'].iloc[-1]"
   ]
  },
  {
   "cell_type": "code",
   "execution_count": 19,
   "id": "7b0cbf39-bd5d-4c5c-b590-f5c6e3a3d964",
   "metadata": {},
   "outputs": [],
   "source": [
    "asset_allocation = holdings_values.copy()\n",
    "asset_allocation = asset_allocation.divide(portfolio['Value'], axis=0)"
   ]
  },
  {
   "cell_type": "code",
   "execution_count": 20,
   "id": "93df7eff-0f42-4e49-9998-502196ef2535",
   "metadata": {},
   "outputs": [
    {
     "name": "stdout",
     "output_type": "stream",
     "text": [
      "XIRR: 25.5949% \n",
      "Annualised XIRR 98.8622%\n"
     ]
    },
    {
     "data": {
      "image/png": "[encoded data removed]",
      "text/plain": [
       "<Figure size 432x288 with 1 Axes>"
      ]
     },
     "metadata": {},
     "output_type": "display_data"
    },
    {
     "data": {
      "image/png": "[encoded data removed]",
      "text/plain": [
       "<Figure size 432x288 with 1 Axes>"
      ]
     },
     "metadata": {},
     "output_type": "display_data"
    }
   ],
   "source": [
    "xirr = pyxirr.xirr(cash_flows.index, cash_flows.values)\n",
    "ann_xirr = (1+xirr)**(365/portfolio.shape[0])-1\n",
    "print('XIRR:', pct(xirr), '\\nAnnualised XIRR', pct(ann_xirr))\n",
    "\n",
    "plt.title('Profit/Loss')\n",
    "plt.plot(portfolio['%P/L'])\n",
    "plt.show()\n",
    "plt.title('Asset Allocation')\n",
    "plt.pie(asset_allocation.iloc[-1], labels=asset_allocation.columns)\n",
    "plt.show()"
   ]
  },
  {
   "cell_type": "code",
   "execution_count": null,
   "id": "6e611c1c-3e4e-4241-a10b-f509ebbf3207",
   "metadata": {},
   "outputs": [],
   "source": []
  }
 ],
 "metadata": {
  "kernelspec": {
   "display_name": "Python 3 (ipykernel)",
   "language": "python",
   "name": "python3"
  },
  "language_info": {
   "codemirror_mode": {
    "name": "ipython",
    "version": 3
   },
   "file_extension": ".py",
   "mimetype": "text/x-python",
   "name": "python",
   "nbconvert_exporter": "python",
   "pygments_lexer": "ipython3",
   "version": "3.9.6"
  }
 },
 "nbformat": 4,
 "nbformat_minor": 5
}
