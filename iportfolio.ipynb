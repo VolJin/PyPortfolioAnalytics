{
 "cells": [
  {
   "cell_type": "code",
   "execution_count": 1,
   "id": "ed88ad06-2746-4a6c-91de-4e8ca2a257e4",
   "metadata": {},
   "outputs": [],
   "source": [
    "import datetime\n",
    "import pandas as pd\n",
    "import numpy as np\n",
    "import numpy_financial as npf\n",
    "import yfinance as yf\n",
    "import pyxirr\n",
    "import matplotlib.pyplot as plt\n",
    "plt.style.use('seaborn-bright')\n",
    "plt.style.use('seaborn-whitegrid')\n",
    "\n",
    "class pct(float):\n",
    "    def __str__(self):\n",
    "        return '{:.4%}'.format(self)"
   ]
  },
  {
   "cell_type": "code",
   "execution_count": 2,
   "id": "1e562fed-e2d6-48f2-b3ef-1715279ecff5",
   "metadata": {},
   "outputs": [],
   "source": [
    "# import formatted list of transaction\n",
    "input_data = pd.read_csv('./test-portfolio.csv', sep=',', index_col='Date', parse_dates=True, ).sort_index()"
   ]
  },
  {
   "cell_type": "code",
   "execution_count": 3,
   "id": "3156c4d8-2a16-46fb-b09a-c8e993375efe",
   "metadata": {},
   "outputs": [],
   "source": [
    "# utilities\n",
    "tickers = input_data.Ticker.unique()\n",
    "tickers.sort()\n",
    "start_date = input_data.index[0].date()\n",
    "end_date = datetime.date(2020,1,29) # (2021,7,16)\n",
    "timeline = pd.date_range(start=start_date, end=end_date)\n",
    "years = timeline.shape[0]/365\n",
    "day = datetime.timedelta(days=1)"
   ]
  },
  {
   "cell_type": "code",
   "execution_count": 4,
   "id": "87dff4b4-9eed-4440-8e19-4364e5aa1050",
   "metadata": {},
   "outputs": [],
   "source": [
    "transactions = pd.DataFrame(0, columns=tickers, index = timeline)\n",
    "splits = pd.DataFrame(1, columns=tickers, index = timeline)\n",
    "dividends = pd.DataFrame(0, columns=tickers, index = timeline)\n",
    "prices = pd.DataFrame(0, columns=tickers, index = timeline)\n",
    "fees = pd.DataFrame(0, columns=tickers, index = timeline)\n",
    "portfolio = pd.DataFrame(0, columns=['Invested Capital'], index = timeline)"
   ]
  },
  {
   "cell_type": "code",
   "execution_count": 5,
   "id": "232f6d55-eb50-4e4a-ae02-ba00bba91820",
   "metadata": {},
   "outputs": [
    {
     "name": "stdout",
     "output_type": "stream",
     "text": [
      "[*********************100%***********************]  4 of 4 completed\n",
      "\n",
      "1 Failed download:\n",
      "- LIQUIDITY: No data found, symbol may be delisted\n"
     ]
    }
   ],
   "source": [
    "market_values = yf.download(list(tickers), start=start_date + day, end=end_date + day)['Adj Close']\n",
    "market_values.loc[:,'LIQUIDITY']=1\n",
    "market_values = market_values.asfreq(freq='1D', method='ffill')"
   ]
  },
  {
   "cell_type": "code",
   "execution_count": 6,
   "id": "eb27efc5-fa3b-4740-aa9b-1d506705298d",
   "metadata": {},
   "outputs": [],
   "source": [
    "# record transactions per ticker\n",
    "for date, transaction in input_data.iterrows():\n",
    "    if transaction.Order == 'purchase' or transaction.Order == 'deposit':\n",
    "        sign = 1\n",
    "    else:\n",
    "        sign = -1\n",
    "    transactions.loc[date, transaction.Ticker] = sign * transaction.Quantity\n",
    "    prices.loc[date, transaction.Ticker] = transaction.Price\n",
    "    fees.loc[date, transaction.Ticker] = transaction.Fee"
   ]
  },
  {
   "cell_type": "code",
   "execution_count": 7,
   "id": "ef90ef17-6602-4c22-8980-e621f00f7fae",
   "metadata": {},
   "outputs": [],
   "source": [
    "# keep track of invested capital\n",
    "portfolio['Invested Capital'] = transactions.loc[:,'LIQUIDITY'].copy()\n",
    "account = transactions.loc[:,'LIQUIDITY'].copy()"
   ]
  },
  {
   "cell_type": "code",
   "execution_count": 8,
   "id": "824ace9f-ed9e-4e81-ab77-4495f8b62a17",
   "metadata": {},
   "outputs": [],
   "source": [
    "# insert cash movements\n",
    "transactions.loc[:,'LIQUIDITY'] = transactions.loc[:,'LIQUIDITY'].values - np.sum((transactions.loc[:, transactions.columns != 'LIQUIDITY'].values*prices.loc[:, prices.columns != 'LIQUIDITY'].values),axis=1)  - np.sum(fees.values,axis=1)"
   ]
  },
  {
   "cell_type": "code",
   "execution_count": 9,
   "id": "0281b5bb-c51c-46c6-9dc5-e7ebb85ca26e",
   "metadata": {},
   "outputs": [
    {
     "name": "stdout",
     "output_type": "stream",
     "text": [
      "- LIQUIDITY: No data found, symbol may be delisted\n"
     ]
    }
   ],
   "source": [
    "for ticker in tickers:\n",
    "    try:\n",
    "        divs = yf.Ticker(ticker).dividends.loc[start_date + day : end_date + day]\n",
    "        for date, div in divs.iteritems():\n",
    "            dividends.loc[date, ticker] = div\n",
    "        spls = yf.Ticker(ticker).splits.loc[start_date + day : end_date + day]\n",
    "        for date, split in spls.iteritems():\n",
    "            splits.loc[date, ticker] = split\n",
    "    except:\n",
    "        pass\n",
    "\n",
    "for date in splits.index[::-1]:\n",
    "    try:\n",
    "        tomorrow = date + day\n",
    "        splits.loc[date] = splits.loc[tomorrow] * splits.loc[date]\n",
    "    except:\n",
    "        pass"
   ]
  },
  {
   "cell_type": "code",
   "execution_count": 10,
   "id": "0dfa3522-7fbd-47fd-bfe4-ff6244f8446f",
   "metadata": {},
   "outputs": [],
   "source": [
    "holdings = transactions.copy()\n",
    "\n",
    "# generate holdings from transactions\n",
    "for date in holdings.index:\n",
    "    try:\n",
    "        yesterday = date - day\n",
    "        holdings.loc[date] = transactions.loc[date] * splits.loc[date] + holdings.loc[yesterday]\n",
    "        portfolio.loc[date, 'Invested Capital'] = portfolio.loc[date, 'Invested Capital'] + portfolio.loc[yesterday, 'Invested Capital']\n",
    "    except:\n",
    "        pass"
   ]
  },
  {
   "cell_type": "code",
   "execution_count": 11,
   "id": "59f3d041-b035-4ffb-9778-792fe3d3aad3",
   "metadata": {},
   "outputs": [],
   "source": [
    "holdings_values = pd.DataFrame((holdings.values * market_values.values), columns=tickers, index = timeline)"
   ]
  },
  {
   "cell_type": "code",
   "execution_count": 12,
   "id": "8fb953ef-df9a-4b25-ab4e-3d5a4ef9b599",
   "metadata": {},
   "outputs": [],
   "source": [
    "portfolio['Value'] = holdings_values.sum(axis=1)\n",
    "portfolio['P/L'] = portfolio['Value']-portfolio['Invested Capital']\n",
    "portfolio['%P/L'] = portfolio['P/L']/portfolio['Invested Capital']\n",
    "portfolio['%day'] = portfolio['Value'].pct_change()\n",
    "portfolio['Log Ret'] = np.log(portfolio['Value']/portfolio['Value'].shift(1))"
   ]
  },
  {
   "cell_type": "code",
   "execution_count": 13,
   "id": "341f5d01-a710-4b42-a704-df6c7b7662d2",
   "metadata": {},
   "outputs": [],
   "source": [
    "cash_flows = -account + np.sum(dividends.values,axis=1) - np.sum(fees.values,axis=1)\n",
    "cash_flows.iloc[-1] = portfolio['Value'].iloc[-1]"
   ]
  },
  {
   "cell_type": "code",
   "execution_count": 14,
   "id": "997a4585-ddef-4e12-b93f-59455bd3fb21",
   "metadata": {},
   "outputs": [],
   "source": [
    "asset_allocation = holdings_values.copy()\n",
    "asset_allocation = asset_allocation.divide(portfolio['Value'], axis=0)"
   ]
  },
  {
   "cell_type": "code",
   "execution_count": 16,
   "id": "8ceaf6f0-0f6e-4cfe-827d-db465fe474b7",
   "metadata": {},
   "outputs": [
    {
     "name": "stdout",
     "output_type": "stream",
     "text": [
      "XIRR: 25.0201% \n",
      "Annualised XIRR 96.1292%\n"
     ]
    },
    {
     "data": {
      "image/png": "[encoded data removed]",
      "text/plain": [
       "<Figure size 432x288 with 1 Axes>"
      ]
     },
     "metadata": {},
     "output_type": "display_data"
    },
    {
     "data": {
      "image/png": "[encoded data removed]",
      "text/plain": [
       "<Figure size 432x288 with 1 Axes>"
      ]
     },
     "metadata": {},
     "output_type": "display_data"
    }
   ],
   "source": [
    "xirr = pyxirr.xirr(cash_flows.index, cash_flows.values)\n",
    "ann_xirr = (1+xirr)**(365/portfolio.shape[0])-1\n",
    "print('XIRR:', pct(xirr), '\\nAnnualised XIRR', pct(ann_xirr))\n",
    "\n",
    "plt.title('Profit/Loss')\n",
    "plt.plot(portfolio['%P/L'])\n",
    "plt.show()\n",
    "plt.title('Asset Allocation')\n",
    "plt.pie(asset_allocation.iloc[-1], labels=asset_allocation.columns)\n",
    "plt.show()"
   ]
  },
  {
   "cell_type": "code",
   "execution_count": null,
   "id": "ec602b89-5f02-4c4b-bd21-6586c6e48d01",
   "metadata": {},
   "outputs": [],
   "source": []
  }
 ],
 "metadata": {
  "kernelspec": {
   "display_name": "Python 3 (ipykernel)",
   "language": "python",
   "name": "python3"
  },
  "language_info": {
   "codemirror_mode": {
    "name": "ipython",
    "version": 3
   },
   "file_extension": ".py",
   "mimetype": "text/x-python",
   "name": "python",
   "nbconvert_exporter": "python",
   "pygments_lexer": "ipython3",
   "version": "3.9.6"
  }
 },
 "nbformat": 4,
 "nbformat_minor": 5
}
