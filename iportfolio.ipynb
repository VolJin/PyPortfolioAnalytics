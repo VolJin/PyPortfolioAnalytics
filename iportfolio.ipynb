{
 "cells": [
  {
   "cell_type": "code",
   "execution_count": 24,
   "source": [
    "import datetime\n",
    "import pandas as pd\n",
    "import numpy as np\n",
    "import yfinance as yf\n",
    "import pyxirr\n",
    "from matplotlib import pyplot as plt\n",
    "from matplotlib.gridspec import GridSpec\n",
    "from matplotlib import ticker as tick\n",
    "plt.style.use('seaborn-bright')\n",
    "plt.style.use('seaborn-whitegrid')\n",
    "\n",
    "class pct(float):\n",
    "    def __str__(self):\n",
    "        return '{:.4%}'.format(self)"
   ],
   "outputs": [],
   "metadata": {}
  },
  {
   "cell_type": "code",
   "execution_count": 25,
   "source": [
    "# READ TRANSACTIONS FROM CSV\n",
    "input_data = pd.read_csv('./test-portfolio.csv', sep=',', index_col='Date', parse_dates=True).sort_index()"
   ],
   "outputs": [],
   "metadata": {}
  },
  {
   "cell_type": "code",
   "execution_count": 26,
   "source": [
    "# UTILITIES\n",
    "tickers = input_data.Ticker.unique()\n",
    "tickers = tickers[tickers != 'CASH$']\n",
    "tickers.sort()\n",
    "start_date = input_data.index[0].date()\n",
    "end_date = datetime.date.today()\n",
    "timeline = pd.date_range(start=start_date, end=end_date)\n",
    "years = timeline.shape[0]/365\n",
    "day = datetime.timedelta(days=1)\n",
    "sec_order = ['purchase', 'sale', 'split']\n",
    "cash_order = ['deposit', 'withdrawal', 'dividend', 'reinvestment']"
   ],
   "outputs": [],
   "metadata": {}
  },
  {
   "cell_type": "code",
   "execution_count": 27,
   "source": [
    "# INITIALISE DATAFRAMES\n",
    "sec_trans = pd.DataFrame(0, columns=tickers, index = timeline)\n",
    "splits = pd.DataFrame(1, columns=tickers, index = timeline)\n",
    "holdings = pd.DataFrame(0, columns=tickers, index = timeline)\n",
    "account = pd.DataFrame(0, columns=['ext_mov', 'inv_cap', 'int_mov', 'holding'], index = timeline)\n",
    "market_values = yf.download(list(tickers), start=start_date + day, end=end_date + day)['Adj Close']\n",
    "market_values = market_values.reindex(index=timeline, method='nearest')"
   ],
   "outputs": [
    {
     "output_type": "stream",
     "name": "stdout",
     "text": [
      "[*********************100%***********************]  3 of 3 completed\n"
     ]
    }
   ],
   "metadata": {}
  },
  {
   "cell_type": "code",
   "execution_count": 28,
   "source": [
    "# ORDER FUNCTIONS\n",
    "def deposit(date, trans):\n",
    "    account.ext_mov.loc[date] = account.ext_mov.loc[date] + trans.Quantity * trans.Price\n",
    "    account.int_mov.loc[date] = account.int_mov.loc[date] + trans.Quantity * trans.Price - trans.Fee\n",
    "\n",
    "def withdrawal(date, trans):\n",
    "    account.ext_mov.loc[date] = account.ext_mov.loc[date] - trans.Quantity * trans.Price\n",
    "    account.int_mov.loc[date] = account.int_mov.loc[date] - trans.Quantity * trans.Price - trans.Fee\n",
    "    \n",
    "def reinvestment(date, trans):\n",
    "    account.int_mov.loc[date] = account.int_mov.loc[date] + trans.Quantity * trans.Price - trans.Fee\n",
    "\n",
    "def purchase(date, trans):\n",
    "    account.int_mov.loc[date] = account.int_mov.loc[date] - trans.Quantity * trans.Price - trans.Fee\n",
    "    sec_trans.loc[date, trans.Ticker] = sec_trans.loc[date, trans.Ticker] + trans.Quantity\n",
    "\n",
    "def sell(date, trans):\n",
    "    account.int_mov.loc[date] = account.int_mov.loc[date] + trans.Quantity * trans.Price - trans.Fee\n",
    "    sec_trans.loc[date, trans.Ticker] = sec_trans.loc[date, trans.Ticker] - trans.Quantity\n",
    "\n",
    "def dividend(date, trans):\n",
    "    reinvestment(date, trans)\n",
    "\n",
    "def ssplit(date, trans):\n",
    "    splits.loc[date] = trans.Price\n",
    "\n",
    "# TRANSACTION SORTING FUNCTION\n",
    "def event(date, trans):\n",
    "    if trans.Order == 'purchase':\n",
    "        purchase(date, trans)\n",
    "    elif trans.Order == 'sale':\n",
    "        sell(date, trans)\n",
    "    elif trans.Order == 'split':\n",
    "        ssplit(date, trans)\n",
    "    elif trans.Order == 'deposit':\n",
    "        deposit(date, trans)\n",
    "    elif trans.Order == 'withdrawal':\n",
    "        withdrawal(date, trans)\n",
    "    elif trans.Order == 'reinvestment':\n",
    "        reinvestment(date, trans)\n",
    "    elif trans.Order == 'dividend':\n",
    "        dividend(date, trans)\n",
    "    else:\n",
    "        pass\n",
    "\n",
    "# DATA FILLING FUNCTIONS\n",
    "def backfill(df, delta):\n",
    "    for i in range(df.shape[0]):\n",
    "        prev = 0\n",
    "        if i > 0:\n",
    "            prev = df.iloc[i-1]\n",
    "        df.iloc[i] = prev + delta.iloc[i]\n",
    "\n",
    "def forwprod(df):\n",
    "    for i in reversed(range(df.shape[0])):\n",
    "        nex = 1\n",
    "        if i < df.shape[0]-2:\n",
    "            nex = df.iloc[i+1]\n",
    "        df.iloc[i] = nex * df.iloc[i]"
   ],
   "outputs": [],
   "metadata": {}
  },
  {
   "cell_type": "code",
   "execution_count": 29,
   "source": [
    "# DOWNLOAD AND RECORD SPLITS DATA\n",
    "for ticker in tickers:\n",
    "    spls = yf.Ticker(ticker).splits.loc[start_date + day : end_date + day]\n",
    "    for date, split in spls.iteritems():\n",
    "        input_data.loc[date] = [ticker, 'split', split, np.nan, 0]\n",
    "\n",
    "# PROCESS SECURITY TRANSACTIONS\n",
    "for date, transaction in input_data[input_data.Order.isin(sec_order)].iterrows():\n",
    "    event(date, transaction)\n",
    "\n",
    "# FILL HOLDINGS\n",
    "backfill(holdings, sec_trans*splits)\n",
    "\n",
    "# DOWNLOAD AND RECORD DIVIDENDS DATA\n",
    "for ticker in tickers:\n",
    "    divs = yf.Ticker(ticker).dividends.loc[start_date + day : end_date + day]\n",
    "    for date, div in divs.iteritems():\n",
    "        input_data.loc[date] = [ticker, 'dividend', div, holdings.loc[date, ticker], 0]\n",
    "\n",
    "# PROCESS CASH TRANSACTIONS\n",
    "for date, transaction in input_data[input_data.Order.isin(cash_order)].iterrows():\n",
    "    event(date, transaction)\n",
    "\n",
    "# FILL EXTERNAL AND INTERNAL ACCOUNT MOVEMENTS\n",
    "backfill(account.inv_cap, account.ext_mov)\n",
    "backfill(account.holding, account.int_mov)"
   ],
   "outputs": [
    {
     "output_type": "stream",
     "name": "stderr",
     "text": [
      "/opt/homebrew/Caskroom/miniforge/base/envs/fin/lib/python3.9/site-packages/pandas/core/indexing.py:1732: SettingWithCopyWarning: \n",
      "A value is trying to be set on a copy of a slice from a DataFrame\n",
      "\n",
      "See the caveats in the documentation: https://pandas.pydata.org/pandas-docs/stable/user_guide/indexing.html#returning-a-view-versus-a-copy\n",
      "  self._setitem_single_block(indexer, value, name)\n"
     ]
    }
   ],
   "metadata": {}
  },
  {
   "cell_type": "code",
   "execution_count": 30,
   "source": [
    "# OUTPUT DATA\n",
    "holdings_values = pd.DataFrame((holdings * market_values), columns=tickers, index=timeline)\n",
    "holdings_values['CASH$'] = account.holding\n",
    "\n",
    "portfolio = pd.DataFrame(0, columns=['Value'], index = timeline)\n",
    "portfolio['Value'] = holdings_values.sum(axis=1)\n",
    "portfolio['P/L'] = portfolio['Value'] - account.inv_cap\n",
    "portfolio['%P/L'] = portfolio['P/L'] / account.inv_cap\n",
    "portfolio['%day'] = (portfolio['Value']- account.ext_mov).pct_change()\n",
    "portfolio['Log Ret'] = np.log((portfolio['Value'] - account.ext_mov) / portfolio['Value'].shift(1))\n",
    "\n",
    "cash_flows = - account.ext_mov\n",
    "cash_flows.iloc[-1] = portfolio['Value'].iloc[-1]\n",
    "\n",
    "asset_allocation = holdings_values.copy()\n",
    "asset_allocation = asset_allocation.divide(portfolio['Value'], axis=0)"
   ],
   "outputs": [],
   "metadata": {}
  },
  {
   "cell_type": "code",
   "execution_count": 31,
   "source": [
    "xirr = pyxirr.xirr(cash_flows.index, cash_flows.values)\n",
    "xirr_ann = (1+xirr)**(1/years)-1\n",
    "print('XIRR:', pct(xirr), '\\nAnnualised XIRR', pct(xirr_ann))"
   ],
   "outputs": [
    {
     "output_type": "stream",
     "name": "stdout",
     "text": [
      "XIRR: 37.5253% \n",
      "Annualised XIRR 19.3656%\n"
     ]
    }
   ],
   "metadata": {}
  },
  {
   "cell_type": "code",
   "execution_count": 32,
   "source": [
    "fig = plt.figure(constrained_layout=True)\n",
    "\n",
    "fig.set_size_inches(9,6)\n",
    "gs = GridSpec(2, 3, figure=fig)\n",
    "ax1 = fig.add_subplot(gs[0, :])\n",
    "ax2 = fig.add_subplot(gs[1, :-1])\n",
    "ax3 = fig.add_subplot(gs[1:, -1])\n",
    "\n",
    "fig.suptitle(\"Portfolio Overview\")\n",
    "ax1.set_title('Profit/Loss')\n",
    "ax1.plot(portfolio['%P/L'])\n",
    "ax1.yaxis.set_major_formatter(tick.PercentFormatter(xmax=1, decimals=2))\n",
    "ax2.set_title('Return Distribution')\n",
    "ax2.hist(portfolio['Log Ret'], bins=50)\n",
    "ax3.set_title('Asset Allocation')\n",
    "ax3.pie(asset_allocation.iloc[-1], labels=asset_allocation.columns)\n",
    "plt.show()\n",
    "\n",
    "plt.show()"
   ],
   "outputs": [
    {
     "output_type": "display_data",
     "data": {
      "text/plain": [
       "<Figure size 648x432 with 3 Axes>"
      ],
      "image/png": "[encoded data removed]"
     },
     "metadata": {}
    }
   ],
   "metadata": {}
  },
  {
   "cell_type": "code",
   "execution_count": null,
   "source": [],
   "outputs": [],
   "metadata": {}
  }
 ],
 "metadata": {
  "kernelspec": {
   "display_name": "Python 3 (ipykernel)",
   "language": "python",
   "name": "python3"
  },
  "language_info": {
   "codemirror_mode": {
    "name": "ipython",
    "version": 3
   },
   "file_extension": ".py",
   "mimetype": "text/x-python",
   "name": "python",
   "nbconvert_exporter": "python",
   "pygments_lexer": "ipython3",
   "version": "3.9.6"
  }
 },
 "nbformat": 4,
 "nbformat_minor": 5
}