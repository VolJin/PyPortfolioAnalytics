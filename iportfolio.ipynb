{
 "cells": [
  {
   "cell_type": "code",
   "execution_count": 1,
   "id": "90517b05",
   "metadata": {},
   "outputs": [],
   "source": [
    "import datetime\n",
    "import pandas as pd\n",
    "import numpy as np\n",
    "import yfinance as yf\n",
    "import pyxirr\n",
    "\n",
    "class pct(float):\n",
    "    def __str__(self):\n",
    "        return '{:.4%}'.format(self)"
   ]
  },
  {
   "cell_type": "code",
   "execution_count": 2,
   "id": "cbfd620f",
   "metadata": {},
   "outputs": [],
   "source": [
    "### INPUT CELL ###\n",
    "\n",
    "# READ TRANSACTIONS FROM CSV\n",
    "input_data = pd.read_csv('./sample-portfolio.csv', sep=',', index_col='Date', parse_dates=True).sort_index()\n",
    "\n",
    "acc_currency = 'USD'"
   ]
  },
  {
   "cell_type": "code",
   "execution_count": 3,
   "id": "56a4f98e",
   "metadata": {},
   "outputs": [],
   "source": [
    "# UTILITIES\n",
    "start_date = input_data.index[0].date()\n",
    "end_date = datetime.date.today()\n",
    "timeline = pd.date_range(start=start_date, end=end_date)\n",
    "years = timeline.shape[0]/365\n",
    "day = datetime.timedelta(days=1)\n",
    "\n",
    "sec_order = ['purchase', 'sale', 'split']\n",
    "cash_order = ['deposit', 'withdrawal', 'dividend', 'reinvestment']\n",
    "\n",
    "tickers = set(input_data.Ticker)\n",
    "tickers.remove(acc_currency)\n",
    "tickers = sorted(tickers)"
   ]
  },
  {
   "cell_type": "code",
   "execution_count": 4,
   "id": "2491a8c9-ce02-40b5-8352-f5e179c64ca0",
   "metadata": {},
   "outputs": [],
   "source": [
    "# INITIAL ATTEMPT IN HANDLING SECURITIES WITH DIFFERENT CURRENCIES\n",
    "def get_currency(ticker):\n",
    "    print(ticker)\n",
    "    return yf.Ticker(ticker).info['currency']\n",
    "\n",
    "def get_currencies(tickers):\n",
    "    currencies = set()\n",
    "    currencies_full = list()\n",
    "    for tick in tickers:\n",
    "        currency = get_currency(tick).upper()\n",
    "        if currency != acc_currency:\n",
    "            if acc_currency == 'USD':\n",
    "                currency += '=X'\n",
    "            else:\n",
    "                currency = acc_currency + currency + '=X'\n",
    "            currencies.add(currency)\n",
    "        currencies_full.append(currency)\n",
    "    return currencies, currencies_full\n",
    "\n",
    "def get_quotes(tickers, timeline):\n",
    "    if len(tickers) != 0:\n",
    "        df = yf.download(tickers, start=timeline[0].date() + day, end=timeline[-1].date() + day)['Close']\n",
    "        df = df.reindex(index=timeline, method='nearest').fillna(method='ffill')\n",
    "        return df"
   ]
  },
  {
   "cell_type": "code",
   "execution_count": 5,
   "id": "57a034ac",
   "metadata": {},
   "outputs": [],
   "source": [
    "# INITIALISE DATAFRAMES\n",
    "sec_trans = pd.DataFrame(0, columns=tickers, index = timeline)\n",
    "splits = pd.DataFrame(1, columns=tickers, index = timeline)\n",
    "ccys = pd.DataFrame(1, columns=tickers, index=timeline)\n",
    "account = pd.DataFrame(0, columns=['ext_mov', 'inv_cap', 'int_mov', 'holding'], index = timeline)"
   ]
  },
  {
   "cell_type": "code",
   "execution_count": 6,
   "id": "9185487c",
   "metadata": {},
   "outputs": [],
   "source": [
    "# ORDER FUNCTIONS\n",
    "def deposit(date, trans):\n",
    "    account.ext_mov.at[date] = account.ext_mov.at[date] + trans.Quantity * trans.Price\n",
    "    account.int_mov.at[date] = account.int_mov.at[date] + trans.Quantity * trans.Price - trans.Fee\n",
    "\n",
    "def withdrawal(date, trans):\n",
    "    account.ext_mov.at[date] = account.ext_mov.at[date] - trans.Quantity * trans.Price\n",
    "    account.int_mov.at[date] = account.int_mov.at[date] - trans.Quantity * trans.Price - trans.Fee\n",
    "    \n",
    "def reinvestment(date, trans):\n",
    "    account.int_mov.at[date] = account.int_mov.at[date] + trans.Quantity * trans.Price - trans.Fee\n",
    "\n",
    "def purchase(date, trans):\n",
    "    account.int_mov.at[date] = account.int_mov.at[date] - trans.Quantity * trans.Price / ccys.at[date, trans.Ticker]  - trans.Fee\n",
    "    sec_trans.at[date, trans.Ticker] = sec_trans.at[date, trans.Ticker] + trans.Quantity\n",
    "\n",
    "def sell(date, trans):\n",
    "    print(ccys.at[date, trans.Ticker])\n",
    "    account.int_mov.at[date] = account.int_mov.at[date] + trans.Quantity * trans.Price / ccys.at[date, trans.Ticker] - trans.Fee\n",
    "    print(account.int_mov.at[date])\n",
    "    sec_trans.at[date, trans.Ticker] = sec_trans.at[date, trans.Ticker] - trans.Quantity\n",
    "\n",
    "def dividend(date, trans):\n",
    "    account.int_mov.at[date] = account.int_mov.at[date] + trans.Quantity * trans.Price * ccys.at[date, trans.Ticker] - trans.Fee\n",
    "\n",
    "def ssplit(date, trans):\n",
    "    splits.at[date, trans.Ticker] = trans.Price\n",
    "\n",
    "# TRANSACTION SORTING FUNCTION\n",
    "def event(date, trans):\n",
    "    if trans.Order == 'purchase':\n",
    "        purchase(date, trans)\n",
    "    elif trans.Order == 'sale':\n",
    "        sell(date, trans)\n",
    "    elif trans.Order == 'split':\n",
    "        ssplit(date, trans)\n",
    "    elif trans.Order == 'deposit':\n",
    "        deposit(date, trans)\n",
    "    elif trans.Order == 'withdrawal':\n",
    "        withdrawal(date, trans)\n",
    "    elif trans.Order == 'reinvestment':\n",
    "        reinvestment(date, trans)\n",
    "    elif trans.Order == 'dividend':\n",
    "        dividend(date, trans)\n",
    "    else:\n",
    "        pass\n",
    "\n",
    "def rev_cumprod(df):\n",
    "    return df.iloc[::-1].cumprod().iloc[::-1]\n",
    "\n",
    "def record_splits(tickers):\n",
    "    for ticker in tickers:\n",
    "        spls = yf.Ticker(ticker).splits.loc[start_date + day : end_date + day]\n",
    "        for date, split in spls.iteritems():\n",
    "            input_data.at[date] = [ticker, 'split', split, np.nan, 0]\n",
    "\n",
    "def record_dividends(tickers):   \n",
    "    for ticker in tickers:\n",
    "        divs = yf.Ticker(ticker).dividends.loc[start_date + day : end_date + day]\n",
    "        for date, div in divs.iteritems():\n",
    "            input_data.at[date] = [ticker, 'dividend', div, holdings.at[date, ticker], 0]"
   ]
  },
  {
   "cell_type": "raw",
   "id": "be04469d-4e35-4bab-824c-b45ecd3e9b32",
   "metadata": {},
   "source": [
    "currencies, currencies_full = get_currencies(tickers)\n",
    "currencies_market_values = get_quotes(currencies, timeline)\n",
    "\n",
    "for i, curr in enumerate(currencies_full):\n",
    "    if curr == acc_currency:\n",
    "        ccys.iloc[:, i] = 1\n",
    "    else:\n",
    "        ccys.iloc[:, i] = currencies_market_values[curr]"
   ]
  },
  {
   "cell_type": "code",
   "execution_count": 7,
   "id": "d4364323",
   "metadata": {},
   "outputs": [
    {
     "name": "stdout",
     "output_type": "stream",
     "text": [
      "1\n",
      "13368.0\n"
     ]
    }
   ],
   "source": [
    "# DOWNLOAD AND RECORD SPLITS DATA\n",
    "record_splits(tickers)\n",
    "\n",
    "# PROCESS SECURITY TRANSACTIONS\n",
    "for date, transaction in input_data[input_data.Order.isin(sec_order)].iterrows():\n",
    "    event(date, transaction)\n",
    "\n",
    "# FILL HOLDINGS\n",
    "splits = rev_cumprod(splits)\n",
    "holdings = (sec_trans*splits).cumsum()\n",
    "\n",
    "record_dividends(tickers)\n",
    "\n",
    "# PROCESS CASH TRANSACTIONS\n",
    "for date, transaction in input_data[input_data.Order.isin(cash_order)].iterrows():\n",
    "    event(date, transaction)\n",
    "\n",
    "# FILL EXTERNAL AND INTERNAL ACCOUNT MOVEMENTS\n",
    "account.inv_cap = account.ext_mov.cumsum()\n",
    "account.holding = account.int_mov.cumsum()"
   ]
  },
  {
   "cell_type": "code",
   "execution_count": 8,
   "id": "b5adde7c-a780-4e9c-8736-044ca0761957",
   "metadata": {},
   "outputs": [
    {
     "name": "stdout",
     "output_type": "stream",
     "text": [
      "[*********************100%***********************]  3 of 3 completed\n"
     ]
    }
   ],
   "source": [
    "market_values = get_quotes(tickers, timeline)"
   ]
  },
  {
   "cell_type": "code",
   "execution_count": 9,
   "id": "25316669-6c34-4026-94db-2844065e221f",
   "metadata": {},
   "outputs": [],
   "source": [
    "adj_market_values = market_values.multiply(ccys, axis=0)"
   ]
  },
  {
   "cell_type": "code",
   "execution_count": 10,
   "id": "fafd8058",
   "metadata": {},
   "outputs": [],
   "source": [
    "# OUTPUT DATA\n",
    "holdings_values = holdings.multiply(adj_market_values, axis=0)\n",
    "holdings_values[acc_currency] = account.holding\n",
    "\n",
    "portfolio = pd.DataFrame(0, columns=['Value'], index = timeline)\n",
    "portfolio['Value'] = holdings_values.sum(axis=1)\n",
    "portfolio['P/L'] = portfolio['Value'] - account.inv_cap\n",
    "portfolio['%P/L'] = portfolio['P/L'] / account.inv_cap\n",
    "portfolio['%day'] = (portfolio['Value'] - account.ext_mov).pct_change()\n",
    "portfolio['Log Ret'] = np.log((portfolio['Value'] - account.ext_mov) / portfolio['Value'].shift(1))\n",
    "\n",
    "cash_flows = - account.ext_mov\n",
    "cash_flows.iloc[-1] = cash_flows.iloc[-1] + portfolio['Value'].iloc[-1]\n",
    "\n",
    "asset_allocation = holdings_values.copy()\n",
    "asset_allocation = asset_allocation.divide(portfolio['Value'], axis=0)"
   ]
  },
  {
   "cell_type": "code",
   "execution_count": 11,
   "id": "a55356fe",
   "metadata": {},
   "outputs": [
    {
     "name": "stdout",
     "output_type": "stream",
     "text": [
      "XIRR: 40.3213% \n",
      "Annualised XIRR 20.5704%\n"
     ]
    }
   ],
   "source": [
    "xirr = pyxirr.xirr(cash_flows.index, cash_flows.values)\n",
    "xirr_ann = (1+xirr)**(1/years)-1\n",
    "print('XIRR:', pct(xirr), '\\nAnnualised XIRR', pct(xirr_ann))"
   ]
  },
  {
   "cell_type": "code",
   "execution_count": 12,
   "id": "a117ab94-0858-4abb-8aab-3e41bc5f622b",
   "metadata": {},
   "outputs": [
    {
     "data": {
      "text/plain": [
       "<AxesSubplot:>"
      ]
     },
     "execution_count": 12,
     "metadata": {},
     "output_type": "execute_result"
    },
    {
     "data": {
      "image/png": "[encoded data removed]",
      "text/plain": [
       "<Figure size 432x288 with 1 Axes>"
      ]
     },
     "metadata": {
      "needs_background": "light"
     },
     "output_type": "display_data"
    }
   ],
   "source": [
    "portfolio['%P/L'].plot()"
   ]
  },
  {
   "cell_type": "code",
   "execution_count": 13,
   "id": "262d556e-1ec7-4f62-bb58-4d2f32128390",
   "metadata": {},
   "outputs": [
    {
     "data": {
      "text/plain": [
       "<AxesSubplot:ylabel='2021-07-22 00:00:00'>"
      ]
     },
     "execution_count": 13,
     "metadata": {},
     "output_type": "execute_result"
    },
    {
     "data": {
      "image/png": "[encoded data removed]",
      "text/plain": [
       "<Figure size 432x288 with 1 Axes>"
      ]
     },
     "metadata": {},
     "output_type": "display_data"
    }
   ],
   "source": [
    "holdings_values.iloc[-1].plot.pie()"
   ]
  },
  {
   "cell_type": "code",
   "execution_count": null,
   "id": "d78b0d60-92ca-4f31-8880-4d218c82ae57",
   "metadata": {},
   "outputs": [],
   "source": []
  }
 ],
 "metadata": {
  "interpreter": {
   "hash": "c0af7032b20d37303788688a97372cf096898cea3885e182ddd9f93df44596fd"
  },
  "kernelspec": {
   "display_name": "Python 3 (ipykernel)",
   "language": "python",
   "name": "python3"
  },
  "language_info": {
   "codemirror_mode": {
    "name": "ipython",
    "version": 3
   },
   "file_extension": ".py",
   "mimetype": "text/x-python",
   "name": "python",
   "nbconvert_exporter": "python",
   "pygments_lexer": "ipython3",
   "version": "3.9.6"
  }
 },
 "nbformat": 4,
 "nbformat_minor": 5
}
