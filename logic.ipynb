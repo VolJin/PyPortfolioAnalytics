{
 "cells": [
  {
   "cell_type": "code",
   "execution_count": 1,
   "source": [
    "import datetime\n",
    "import pandas as pd\n",
    "import numpy as np\n",
    "import yfinance as yf\n",
    "import pyxirr\n",
    "\n",
    "class pct(float):\n",
    "    def __str__(self):\n",
    "        return '{:.4%}'.format(self)"
   ],
   "outputs": [],
   "metadata": {}
  },
  {
   "cell_type": "code",
   "execution_count": 2,
   "source": [
    "### INPUT CELL ###\n",
    "\n",
    "# READ TRANSACTIONS FROM CSV\n",
    "input_data = pd.read_csv('./samples/sample-portfolio.csv', sep=',', index_col='Date', parse_dates=True).sort_index()\n",
    "\n",
    "acc_currency = 'USD'"
   ],
   "outputs": [],
   "metadata": {}
  },
  {
   "cell_type": "code",
   "execution_count": 3,
   "source": [
    "# UTILITIES\n",
    "start_date = input_data.index[0].date()\n",
    "end_date = datetime.date.today()\n",
    "timeline = pd.date_range(start=start_date, end=end_date)\n",
    "years = timeline.shape[0]/365\n",
    "day = datetime.timedelta(days=1)\n",
    "\n",
    "sec_order = ['purchase', 'sale', 'split']\n",
    "cash_order = ['deposit', 'withdrawal', 'dividend', 'reinvestment']\n",
    "\n",
    "tickers = set(input_data.Ticker)\n",
    "tickers.remove(acc_currency)\n",
    "tickers = sorted(tickers)"
   ],
   "outputs": [],
   "metadata": {}
  },
  {
   "cell_type": "code",
   "execution_count": 4,
   "source": [
    "# INITIAL ATTEMPT IN HANDLING SECURITIES WITH DIFFERENT CURRENCIES\n",
    "def get_currency(ticker):\n",
    "    print(ticker)\n",
    "    return yf.Ticker(ticker).info['currency']\n",
    "\n",
    "def get_currencies(tickers):\n",
    "    currencies = set()\n",
    "    currencies_full = list()\n",
    "    for tick in tickers:\n",
    "        currency = get_currency(tick).upper()\n",
    "        if currency != acc_currency:\n",
    "            if acc_currency == 'USD':\n",
    "                currency += '=X'\n",
    "            else:\n",
    "                currency = acc_currency + currency + '=X'\n",
    "            currencies.add(currency)\n",
    "        currencies_full.append(currency)\n",
    "    return currencies, currencies_full\n",
    "\n",
    "def get_quotes(tickers, timeline):\n",
    "    if len(tickers) != 0:\n",
    "        df = yf.download(tickers, start=timeline[0].date() + day, end=timeline[-1].date() + day)['Close']\n",
    "        df = df.reindex(index=timeline, method='nearest').fillna(method='ffill')\n",
    "        return df"
   ],
   "outputs": [],
   "metadata": {}
  },
  {
   "cell_type": "code",
   "execution_count": 5,
   "source": [
    "# INITIALISE DATAFRAMES\n",
    "sec_trans = pd.DataFrame(0, columns=tickers, index = timeline)\n",
    "splits = pd.DataFrame(1, columns=tickers, index = timeline)\n",
    "ccys = pd.DataFrame(1, columns=tickers, index=timeline)\n",
    "account = pd.DataFrame(0, columns=['ext_mov', 'inv_cap', 'int_mov', 'holding'], index = timeline)"
   ],
   "outputs": [],
   "metadata": {}
  },
  {
   "cell_type": "code",
   "execution_count": 6,
   "source": [
    "# ORDER FUNCTIONS\n",
    "def deposit(date, trans):\n",
    "    account.ext_mov.at[date] = account.ext_mov.at[date] + trans.Quantity * trans.Price\n",
    "    account.int_mov.at[date] = account.int_mov.at[date] + trans.Quantity * trans.Price - trans.Fee\n",
    "\n",
    "def withdrawal(date, trans):\n",
    "    account.ext_mov.at[date] = account.ext_mov.at[date] - trans.Quantity * trans.Price\n",
    "    account.int_mov.at[date] = account.int_mov.at[date] - trans.Quantity * trans.Price - trans.Fee\n",
    "    \n",
    "def reinvestment(date, trans):\n",
    "    account.int_mov.at[date] = account.int_mov.at[date] + trans.Quantity * trans.Price - trans.Fee\n",
    "\n",
    "def purchase(date, trans):\n",
    "    account.int_mov.at[date] = account.int_mov.at[date] - trans.Quantity * trans.Price / ccys.at[date, trans.Ticker]  - trans.Fee\n",
    "    sec_trans.at[date, trans.Ticker] = sec_trans.at[date, trans.Ticker] + trans.Quantity\n",
    "\n",
    "def sell(date, trans):\n",
    "    account.int_mov.at[date] = account.int_mov.at[date] + trans.Quantity * trans.Price / ccys.at[date, trans.Ticker] - trans.Fee\n",
    "    sec_trans.at[date, trans.Ticker] = sec_trans.at[date, trans.Ticker] - trans.Quantity\n",
    "\n",
    "def dividend(date, trans):\n",
    "    account.int_mov.at[date] = account.int_mov.at[date] + trans.Quantity * trans.Price * ccys.at[date, trans.Ticker] - trans.Fee\n",
    "\n",
    "def ssplit(date, trans):\n",
    "    splits.at[date, trans.Ticker] = trans.Price\n",
    "\n",
    "# TRANSACTION SORTING FUNCTION\n",
    "def event(date, trans):\n",
    "    if trans.Order == 'purchase':\n",
    "        purchase(date, trans)\n",
    "    elif trans.Order == 'sale':\n",
    "        sell(date, trans)\n",
    "    elif trans.Order == 'split':\n",
    "        ssplit(date, trans)\n",
    "    elif trans.Order == 'deposit':\n",
    "        deposit(date, trans)\n",
    "    elif trans.Order == 'withdrawal':\n",
    "        withdrawal(date, trans)\n",
    "    elif trans.Order == 'reinvestment':\n",
    "        reinvestment(date, trans)\n",
    "    elif trans.Order == 'dividend':\n",
    "        dividend(date, trans)\n",
    "    else:\n",
    "        pass\n",
    "\n",
    "def rev_cumprod(df):\n",
    "    return df.iloc[::-1].cumprod().iloc[::-1]\n",
    "\n",
    "def record_splits(tickers):\n",
    "    for ticker in tickers:\n",
    "        spls = yf.Ticker(ticker).splits.loc[start_date + day : end_date + day]\n",
    "        for date, split in spls.iteritems():\n",
    "            input_data.at[date] = [ticker, 'split', split, np.nan, 0]\n",
    "\n",
    "def record_dividends(tickers):   \n",
    "    for ticker in tickers:\n",
    "        divs = yf.Ticker(ticker).dividends.loc[start_date + day : end_date + day]\n",
    "        for date, div in divs.iteritems():\n",
    "            input_data.at[date] = [ticker, 'dividend', div, holdings.at[date, ticker], 0]"
   ],
   "outputs": [],
   "metadata": {}
  },
  {
   "cell_type": "markdown",
   "source": [
    "currencies, currencies_full = get_currencies(tickers)\n",
    "currencies_market_values = get_quotes(currencies, timeline)\n",
    "\n",
    "for i, curr in enumerate(currencies_full):\n",
    "    if curr == acc_currency:\n",
    "        ccys.iloc[:, i] = 1\n",
    "    else:\n",
    "        ccys.iloc[:, i] = currencies_market_values[curr]"
   ],
   "metadata": {}
  },
  {
   "cell_type": "code",
   "execution_count": 7,
   "source": [
    "# DOWNLOAD AND RECORD SPLITS DATA\n",
    "record_splits(tickers)\n",
    "\n",
    "# PROCESS SECURITY TRANSACTIONS\n",
    "for date, transaction in input_data[input_data.Order.isin(sec_order)].iterrows():\n",
    "    event(date, transaction)\n",
    "\n",
    "# FILL HOLDINGS\n",
    "splits = rev_cumprod(splits)\n",
    "holdings = (sec_trans*splits).cumsum()\n",
    "\n",
    "record_dividends(tickers)\n",
    "\n",
    "# PROCESS CASH TRANSACTIONS\n",
    "for date, transaction in input_data[input_data.Order.isin(cash_order)].iterrows():\n",
    "    event(date, transaction)\n",
    "\n",
    "# FILL EXTERNAL AND INTERNAL ACCOUNT MOVEMENTS\n",
    "account.inv_cap = account.ext_mov.cumsum()\n",
    "account.holding = account.int_mov.cumsum()"
   ],
   "outputs": [],
   "metadata": {}
  },
  {
   "cell_type": "code",
   "execution_count": 8,
   "source": [
    "market_values = get_quotes(tickers, timeline)\n",
    "adj_market_values = market_values.multiply(ccys, axis=0)"
   ],
   "outputs": [
    {
     "output_type": "stream",
     "name": "stdout",
     "text": [
      "[*********************100%***********************]  3 of 3 completed\n"
     ]
    }
   ],
   "metadata": {}
  },
  {
   "cell_type": "code",
   "execution_count": 9,
   "source": [
    "# OUTPUT DATA\n",
    "holdings_values = holdings.multiply(adj_market_values, axis=0)\n",
    "holdings_values[acc_currency] = account.holding\n",
    "\n",
    "portfolio = pd.DataFrame(0, columns=['Value'], index = timeline)\n",
    "portfolio['Value'] = holdings_values.sum(axis=1)\n",
    "portfolio['P/L'] = portfolio['Value'] - account.inv_cap\n",
    "portfolio['%P/L'] = portfolio['P/L'] / account.inv_cap\n",
    "portfolio['%day'] = (portfolio['Value'] - account.ext_mov).pct_change()\n",
    "portfolio['Log Ret'] = np.log((portfolio['Value'] - account.ext_mov) / portfolio['Value'].shift(1))\n",
    "\n",
    "cash_flows = - account.ext_mov\n",
    "cash_flows.iloc[-1] = cash_flows.iloc[-1] + portfolio['Value'].iloc[-1]\n",
    "\n",
    "asset_allocation = holdings_values.copy()\n",
    "asset_allocation = asset_allocation.divide(portfolio['Value'], axis=0)"
   ],
   "outputs": [],
   "metadata": {}
  },
  {
   "cell_type": "code",
   "execution_count": 10,
   "source": [
    "xirr = pyxirr.xirr(cash_flows.index, cash_flows.values)\n",
    "xirr_ann = (1+xirr)**(1/years)-1\n",
    "print('XIRR:', pct(xirr), '\\nAnnualised XIRR', pct(xirr_ann))"
   ],
   "outputs": [
    {
     "output_type": "stream",
     "name": "stdout",
     "text": [
      "XIRR: 41.7991% \n",
      "Annualised XIRR 21.1994%\n"
     ]
    }
   ],
   "metadata": {}
  },
  {
   "cell_type": "code",
   "execution_count": 11,
   "source": [
    "portfolio['%P/L'].plot()"
   ],
   "outputs": [
    {
     "output_type": "execute_result",
     "data": {
      "text/plain": [
       "<AxesSubplot:>"
      ]
     },
     "metadata": {},
     "execution_count": 11
    },
    {
     "output_type": "display_data",
     "data": {
      "text/plain": [
       "<Figure size 432x288 with 1 Axes>"
      ],
      "image/png": "[encoded data removed]"
     },
     "metadata": {
      "needs_background": "light"
     }
    }
   ],
   "metadata": {}
  },
  {
   "cell_type": "code",
   "execution_count": 12,
   "source": [
    "holdings_values.iloc[-1].plot.pie()"
   ],
   "outputs": [
    {
     "output_type": "execute_result",
     "data": {
      "text/plain": [
       "<AxesSubplot:ylabel='2021-07-24 00:00:00'>"
      ]
     },
     "metadata": {},
     "execution_count": 12
    },
    {
     "output_type": "display_data",
     "data": {
      "text/plain": [
       "<Figure size 432x288 with 1 Axes>"
      ],
      "image/png": "[encoded data removed]"
     },
     "metadata": {}
    }
   ],
   "metadata": {}
  },
  {
   "cell_type": "code",
   "execution_count": 13,
   "source": [
    "portfolio['Log Ret'].plot.hist(bins=30)"
   ],
   "outputs": [
    {
     "output_type": "execute_result",
     "data": {
      "text/plain": [
       "<AxesSubplot:ylabel='Frequency'>"
      ]
     },
     "metadata": {},
     "execution_count": 13
    },
    {
     "output_type": "display_data",
     "data": {
      "text/plain": [
       "<Figure size 432x288 with 1 Axes>"
      ],
      "image/png": "[encoded data removed]"
     },
     "metadata": {
      "needs_background": "light"
     }
    }
   ],
   "metadata": {}
  },
  {
   "cell_type": "code",
   "execution_count": null,
   "source": [],
   "outputs": [],
   "metadata": {}
  }
 ],
 "metadata": {
  "interpreter": {
   "hash": "c0af7032b20d37303788688a97372cf096898cea3885e182ddd9f93df44596fd"
  },
  "kernelspec": {
   "name": "python3",
   "display_name": "Python 3.9.6 64-bit ('fin': conda)"
  },
  "language_info": {
   "codemirror_mode": {
    "name": "ipython",
    "version": 3
   },
   "file_extension": ".py",
   "mimetype": "text/x-python",
   "name": "python",
   "nbconvert_exporter": "python",
   "pygments_lexer": "ipython3",
   "version": "3.9.6"
  }
 },
 "nbformat": 4,
 "nbformat_minor": 5
}