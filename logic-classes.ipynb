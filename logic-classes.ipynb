{
    "cells": [
        {
            "cell_type": "code",
            "execution_count": 1,
            "source": [
                "import pandas as pd\n",
                "import datetime\n",
                "import pyxirr\n",
                "from alpha_vantage.timeseries import TimeSeries\n",
                "from alpha_vantage.foreignexchange import ForeignExchange\n",
                "from alpha_vantage.fundamentaldata import FundamentalData\n",
                "\n",
                "api_file = open(\"./api-key.txt\", \"r\")\n",
                "api_key = api_file.read()\n",
                "api_file.close()\n",
                "\n",
                "# Alpha Vantage wrapper setup\n",
                "ts = TimeSeries(key=api_key, output_format='pandas', indexing_type='date')\n",
                "cc = ForeignExchange(key=api_key, output_format='pandas', indexing_type='date')\n",
                "fd = FundamentalData(key=api_key, output_format='pandas')"
            ],
            "outputs": [],
            "metadata": {}
        },
        {
            "cell_type": "code",
            "execution_count": 9,
            "source": [
                "class Account:\n",
                "\n",
                "    def __init__(self, currency, timeline):\n",
                "        self.currency = currency\n",
                "        self.name = 'CASH.' + self.currency\n",
                "        self.internal_transactions = pd.Series(0, index=timeline)\n",
                "        self.external_transactions = pd.Series(0, index=timeline)\n",
                "    \n",
                "    def internal_flow(self, date, amount):\n",
                "        self.internal_transactions.at[date] = self.internal_transactions.at[date] + amount\n",
                "\n",
                "    def external_flow(self, date, amount):\n",
                "        self.external_transactions.at[date] = self.external_transactions.at[date] + amount\n",
                "\n",
                "    def process_data(self):\n",
                "        self.holdings = self.internal_transactions.cumsum()\n",
                "        self.invested_capital = self.external_transactions.cumsum()\n",
                "\n",
                "\n",
                "class Ticker:\n",
                "\n",
                "    def __init__(self, name, timeline):\n",
                "        self.name = name\n",
                "        self.transactions = pd.Series(0, name=self.name, index=timeline)\n",
                "        self.data = ts.get_daily_adjusted(self.name, outputsize='full')[0].iloc[::-1]\n",
                "        self.data = self.data.reindex(index=timeline, method='nearest').fillna(method='ffill').loc[timeline[0]:timeline[-1]]\n",
                "        self.prices = self.data['4. close']\n",
                "        self.dividends = self.data['7. dividend amount']\n",
                "        self.splits = self.data['8. split coefficient'].cumprod()\n",
                "        self.overview = fd.get_company_overview(symbol='MSFT')[0]\n",
                "        self.currency = self.overview['Currency']\n",
                "        self.sector = self.overview['Sector']\n",
                "\n",
                "    def update(self, date, amount):\n",
                "        self.transactions.at[date] = self.transactions.at[date] + amount\n",
                "\n",
                "    def process_data(self):\n",
                "        self.holdings = self.transactions.cumsum() * self.splits\n",
                "        self.holdings_value_locale = self.holdings * self.prices\n",
                "        self.holdings_value = self.holdings_value_locale.rename(self.name) # / fx_rate\n",
                "\n",
                "\n",
                "class Portfolio:\n",
                "\n",
                "    def __init__(self, filename, currency):\n",
                "        self.data = pd.read_csv(filename, sep=',', index_col='Date', parse_dates=True).sort_index()\n",
                "        self.timeline = pd.date_range(start=self.data.index[0].date(), end=datetime.date.today())\n",
                "        self.currency = currency\n",
                "        self.account = Account(self.currency, self.timeline)\n",
                "        self.tickers = dict() # dictionary with Ticker object at key='TICKER NAME'\n",
                "\n",
                "    def process_data(self):\n",
                "        for date, transaction in self.data.iterrows():\n",
                "            self.add_transaction(date, transaction)\n",
                "        self.dividend()\n",
                "        self.account.process_data()\n",
                "        self.join_holdings()\n",
                "        self.generate_stats()\n",
                "\n",
                "    def add_transaction(self, date, transaction):\n",
                "        getattr(self, transaction.Order)(date, transaction)\n",
                "    \n",
                "    def deposit(self, date, transaction):\n",
                "        self.account.internal_flow(date, transaction.Quantity * transaction.Price - transaction.Fee)\n",
                "        self.account.external_flow(date, transaction.Quantity * transaction.Price)\n",
                "\n",
                "    def withdrawal(self, date, transaction):\n",
                "        self.account.internal_flow(date, - transaction.Quantity * transaction.Price - transaction.Fee)\n",
                "        self.account.external_flow(date, - transaction.Quantity * transaction.Price)\n",
                "    \n",
                "    def purchase(self, date, transaction):\n",
                "        self.account.internal_flow(date,- transaction.Quantity * transaction.Price - transaction.Fee ) # / fx_rate\n",
                "        tick = self.tickers.setdefault(transaction.Ticker, Ticker(transaction.Ticker, self.timeline))\n",
                "        tick.update(date, transaction.Quantity)\n",
                "\n",
                "    def sale(self, date, transaction):\n",
                "        self.account.internal_flow(date, transaction.Quantity * transaction.Price - transaction.Fee) # / fx_rate\n",
                "        tick = self.tickers.setdefault(transaction.Ticker, Ticker(transaction.Ticker, self.timeline))\n",
                "        tick.update(date, - transaction.Quantity)\n",
                "\n",
                "    '''Not sure if this approach is better than record dividends as transactions'''\n",
                "    def dividend(self):\n",
                "        for ticker in self.tickers.values():\n",
                "            ticker.process_data()\n",
                "            self.account.internal_transactions = self.account.internal_transactions + ticker.dividends * ticker.holdings # / fx_rate\n",
                "\n",
                "    def join_holdings(self):\n",
                "        self.holdings = pd.DataFrame(self.account.holdings, columns=[self.account.name])\n",
                "        for ticker in self.tickers.values():\n",
                "            self.holdings = self.holdings.join(ticker.holdings_value)\n",
                "\n",
                "    def generate_stats(self):\n",
                "        self.value = self.holdings.sum(axis=1)\n",
                "        self.pl = self.value - self.account.invested_capital\n",
                "        self.pctpl = self.pl / self.account.invested_capital\n",
                "        self.cash_flows = - self.account.external_transactions\n",
                "        self.cash_flows.iloc[-1] = self.cash_flows.iloc[-1] + self.value.iloc[-1]\n",
                "        self.xirr = pyxirr.xirr(self.cash_flows.index, self.cash_flows.values)\n",
                "        self.xirr_ann = (1+self.xirr)**(365/len(self.timeline))-1"
            ],
            "outputs": [],
            "metadata": {}
        },
        {
            "cell_type": "code",
            "execution_count": 10,
            "source": [
                "# portfolio_split = Portfolio('./samples/sample-split.csv', 'USD')\n",
                "portfolio_dividend = Portfolio('./samples/sample-dividend.csv', 'USD')"
            ],
            "outputs": [],
            "metadata": {}
        },
        {
            "cell_type": "code",
            "execution_count": 11,
            "source": [
                "portfolio_dividend.process_data()"
            ],
            "outputs": [],
            "metadata": {}
        },
        {
            "cell_type": "code",
            "execution_count": 5,
            "source": [
                "portfolio_dividend.pctpl.plot()"
            ],
            "outputs": [
                {
                    "output_type": "execute_result",
                    "data": {
                        "text/plain": [
                            "<AxesSubplot:>"
                        ]
                    },
                    "metadata": {},
                    "execution_count": 5
                },
                {
                    "output_type": "display_data",
                    "data": {
                        "text/plain": [
                            "<Figure size 432x288 with 1 Axes>"
                        ],
                        "image/png": "[encoded data removed]"
                    },
                    "metadata": {
                        "needs_background": "light"
                    }
                }
            ],
            "metadata": {}
        },
        {
            "cell_type": "code",
            "execution_count": 6,
            "source": [
                "portfolio_dividend.holdings.iloc[-1].plot.pie()"
            ],
            "outputs": [
                {
                    "output_type": "execute_result",
                    "data": {
                        "text/plain": [
                            "<AxesSubplot:ylabel='2021-07-24 00:00:00'>"
                        ]
                    },
                    "metadata": {},
                    "execution_count": 6
                },
                {
                    "output_type": "display_data",
                    "data": {
                        "text/plain": [
                            "<Figure size 432x288 with 1 Axes>"
                        ],
                        "image/png": "[encoded data removed]"
                    },
                    "metadata": {}
                }
            ],
            "metadata": {}
        },
        {
            "cell_type": "code",
            "execution_count": 12,
            "source": [
                "portfolio_dividend.xirr, portfolio_dividend.xirr_ann"
            ],
            "outputs": [
                {
                    "output_type": "execute_result",
                    "data": {
                        "text/plain": [
                            "(0.5218552073041595, 4.9432823396220416)"
                        ]
                    },
                    "metadata": {},
                    "execution_count": 12
                }
            ],
            "metadata": {}
        },
        {
            "cell_type": "code",
            "execution_count": 17,
            "source": [
                "portfolio_dividend.cash_flows.plot()"
            ],
            "outputs": [
                {
                    "output_type": "execute_result",
                    "data": {
                        "text/plain": [
                            "<AxesSubplot:>"
                        ]
                    },
                    "metadata": {},
                    "execution_count": 17
                },
                {
                    "output_type": "display_data",
                    "data": {
                        "text/plain": [
                            "<Figure size 432x288 with 1 Axes>"
                        ],
                        "image/png": "[encoded data removed]"
                    },
                    "metadata": {
                        "needs_background": "light"
                    }
                }
            ],
            "metadata": {}
        },
        {
            "cell_type": "code",
            "execution_count": 18,
            "source": [
                "portfolio_dividend.account.internal_transactions.plot()"
            ],
            "outputs": [
                {
                    "output_type": "execute_result",
                    "data": {
                        "text/plain": [
                            "<AxesSubplot:>"
                        ]
                    },
                    "metadata": {},
                    "execution_count": 18
                },
                {
                    "output_type": "display_data",
                    "data": {
                        "text/plain": [
                            "<Figure size 432x288 with 1 Axes>"
                        ],
                        "image/png": "[encoded data removed]"
                    },
                    "metadata": {
                        "needs_background": "light"
                    }
                }
            ],
            "metadata": {}
        },
        {
            "cell_type": "code",
            "execution_count": null,
            "source": [],
            "outputs": [],
            "metadata": {}
        }
    ],
    "metadata": {
        "orig_nbformat": 4,
        "language_info": {
            "name": "python",
            "version": "3.9.6",
            "mimetype": "text/x-python",
            "codemirror_mode": {
                "name": "ipython",
                "version": 3
            },
            "pygments_lexer": "ipython3",
            "nbconvert_exporter": "python",
            "file_extension": ".py"
        },
        "kernelspec": {
            "name": "python3",
            "display_name": "Python 3.9.6 64-bit ('fin': conda)"
        },
        "interpreter": {
            "hash": "c0af7032b20d37303788688a97372cf096898cea3885e182ddd9f93df44596fd"
        }
    },
    "nbformat": 4,
    "nbformat_minor": 2
}